{
 "cells": [
  {
   "cell_type": "markdown",
   "metadata": {},
   "source": [
    "# Funciones en Python"
   ]
  },
  {
   "cell_type": "code",
   "execution_count": 2,
   "metadata": {},
   "outputs": [],
   "source": [
    "def suma(x, y):\n",
    "    return x+y"
   ]
  },
  {
   "cell_type": "code",
   "execution_count": 3,
   "metadata": {},
   "outputs": [],
   "source": [
    "class Operaciones(object):  #Nunca omitir los :\n",
    "    def suma(self, x,y):    #Definimos la funcion, eL primer parametro siempre es self y en seguida los parametros\n",
    "        self.resultado= x+y #Self hace referencia a la misma clase\n",
    "        return self.resultado\n",
    "    \n",
    "#El primer argumento de cualquiermetodo de una clase siempre sera self y referenciara a la instancia de la clase(ref al objeto)"
   ]
  },
  {
   "cell_type": "code",
   "execution_count": 4,
   "metadata": {},
   "outputs": [
    {
     "data": {
      "text/plain": [
       "7"
      ]
     },
     "execution_count": 4,
     "metadata": {},
     "output_type": "execute_result"
    }
   ],
   "source": [
    "suma(3,4)   #Definicion de la funcion suma"
   ]
  },
  {
   "cell_type": "code",
   "execution_count": 5,
   "metadata": {},
   "outputs": [
    {
     "data": {
      "text/plain": [
       "8"
      ]
     },
     "execution_count": 5,
     "metadata": {},
     "output_type": "execute_result"
    }
   ],
   "source": [
    "operInstance = Operaciones()   #Creamos una instancia a la clase nombre_obj = nombre_Clase()\n",
    "operInstance.suma(2,3)         #nombre_obj.funcion  // Invocamos la funcion de la clase\n",
    "\n",
    "mi_clase = Operaciones()\n",
    "mi_clase.suma(4,4)"
   ]
  },
  {
   "cell_type": "code",
   "execution_count": 6,
   "metadata": {},
   "outputs": [],
   "source": [
    "def saludar():\n",
    "    nombre=str(input(\"intorduce tu nombre:\")) #str()= combierte a cadena la entrada \n",
    "    if nombre: #Evalua el parametro\n",
    "        print(\"Hola:\"+nombre)\n",
    "    else:     #Si el parametro es nulo entonces regresa la del else\n",
    "        print(\"Hola estoy programando en python\")\n",
    "    return   #Si la funcion no regresa nada como resultado final se puede omitir el return"
   ]
  },
  {
   "cell_type": "code",
   "execution_count": 8,
   "metadata": {},
   "outputs": [
    {
     "name": "stdout",
     "output_type": "stream",
     "text": [
      "intorduce tu nombre:\n",
      "Hola estoy programando en python\n"
     ]
    }
   ],
   "source": [
    "saludar()  #Ejecutamos la funcion"
   ]
  },
  {
   "cell_type": "code",
   "execution_count": 9,
   "metadata": {},
   "outputs": [
    {
     "data": {
      "text/plain": [
       "40"
      ]
     },
     "execution_count": 9,
     "metadata": {},
     "output_type": "execute_result"
    }
   ],
   "source": [
    "suma(3,5)*5  #Cuando la funcion devuelve algo podemos utilizarla para una operacion"
   ]
  },
  {
   "cell_type": "code",
   "execution_count": 10,
   "metadata": {},
   "outputs": [],
   "source": [
    "def buscaPares():\n",
    "    for x in range(10):\n",
    "        if x % 2 == 0:\n",
    "            return   # cuando entra retrona la ejecucion y termina \n",
    "    print(\"Fin de la ejecución\")"
   ]
  },
  {
   "cell_type": "code",
   "execution_count": 11,
   "metadata": {},
   "outputs": [],
   "source": [
    "buscaPares()"
   ]
  },
  {
   "cell_type": "code",
   "execution_count": 21,
   "metadata": {},
   "outputs": [],
   "source": [
    "def sumaresta (x,y):\n",
    "    suma= x+y\n",
    "    resta=x-y\n",
    "    return (suma, resta) #Al return con mas de dos valores se le conoce como una tupla,recomendacion colocar la lista en ()\n",
    "def sumaresta2 (x,y=0):\n",
    "    suma= x+y\n",
    "    resta=x-y\n",
    "    return (suma, resta) #Al return con mas de dos valores se le conoce como una tupla,recomendacion colocar la lista en ()"
   ]
  },
  {
   "cell_type": "code",
   "execution_count": 17,
   "metadata": {},
   "outputs": [
    {
     "data": {
      "text/plain": [
       "(8, 0)"
      ]
     },
     "execution_count": 17,
     "metadata": {},
     "output_type": "execute_result"
    }
   ],
   "source": [
    "sumaresta(x=4,y=4)"
   ]
  },
  {
   "cell_type": "code",
   "execution_count": 24,
   "metadata": {},
   "outputs": [
    {
     "data": {
      "text/plain": [
       "(5, 5)"
      ]
     },
     "execution_count": 24,
     "metadata": {},
     "output_type": "execute_result"
    }
   ],
   "source": [
    "sumaresta2(5) #En una funcin se puede omitir pasar el valor si se inicialozo con uno valor dentro de la funcion"
   ]
  },
  {
   "cell_type": "code",
   "execution_count": 25,
   "metadata": {},
   "outputs": [],
   "source": [
    "#funciones con N. variable de argumentos, cuando no sabemos el numero de argumentos a pasar; se puede resolver con anteponer\n",
    "# un *args antes del nombre del argumento, para  pasar una variable(del mismo tipo) que no se conoce su longitud\n",
    "\n",
    "def suma(*args):\n",
    "    return sum(args)  #la funcion SUM() es propia de python y sirve para sumar un conjunto de numeros"
   ]
  },
  {
   "cell_type": "code",
   "execution_count": 29,
   "metadata": {},
   "outputs": [
    {
     "data": {
      "text/plain": [
       "3"
      ]
     },
     "execution_count": 29,
     "metadata": {},
     "output_type": "execute_result"
    }
   ],
   "source": [
    "suma(1,2)"
   ]
  },
  {
   "cell_type": "code",
   "execution_count": 30,
   "metadata": {},
   "outputs": [
    {
     "data": {
      "text/plain": [
       "10"
      ]
     },
     "execution_count": 30,
     "metadata": {},
     "output_type": "execute_result"
    }
   ],
   "source": [
    "suma(1,2,3,4)"
   ]
  },
  {
   "cell_type": "code",
   "execution_count": 31,
   "metadata": {},
   "outputs": [
    {
     "data": {
      "text/plain": [
       "55"
      ]
     },
     "execution_count": 31,
     "metadata": {},
     "output_type": "execute_result"
    }
   ],
   "source": [
    "suma(1,2,3,4,5,6,7,8,9,10)"
   ]
  },
  {
   "cell_type": "code",
   "execution_count": 48,
   "metadata": {},
   "outputs": [],
   "source": [
    "def sumacuadrados(*datos):\n",
    "    total=0;\n",
    "    for i in datos:\n",
    "        total +=  i**2;\n",
    "        #total =  total +i**2  Otra forma de hacer la suma al resultado de la potencia \n",
    "    return total"
   ]
  },
  {
   "cell_type": "code",
   "execution_count": 49,
   "metadata": {},
   "outputs": [
    {
     "data": {
      "text/plain": [
       "30"
      ]
     },
     "execution_count": 49,
     "metadata": {},
     "output_type": "execute_result"
    }
   ],
   "source": [
    "sumacuadrados(1,2,3,4)"
   ]
  },
  {
   "cell_type": "code",
   "execution_count": 47,
   "metadata": {},
   "outputs": [
    {
     "data": {
      "text/plain": [
       "262.9489"
      ]
     },
     "execution_count": 47,
     "metadata": {},
     "output_type": "execute_result"
    }
   ],
   "source": [
    "sumacuadrados(2.5, 3.6, 8.9, -2, 12.67)"
   ]
  },
  {
   "cell_type": "code",
   "execution_count": 51,
   "metadata": {},
   "outputs": [
    {
     "data": {
      "text/plain": [
       "30"
      ]
     },
     "execution_count": 51,
     "metadata": {},
     "output_type": "execute_result"
    }
   ],
   "source": [
    "sumacuadrados(1,2,3,4)"
   ]
  },
  {
   "cell_type": "markdown",
   "metadata": {},
   "source": [
    "# Funciones anónimas en python"
   ]
  },
  {
   "cell_type": "code",
   "execution_count": 97,
   "metadata": {},
   "outputs": [],
   "source": [
    "doble = lambda x: x*2  # funcio doble declarada como lamda (anonima)"
   ]
  },
  {
   "cell_type": "code",
   "execution_count": 98,
   "metadata": {},
   "outputs": [
    {
     "data": {
      "text/plain": [
       "4"
      ]
     },
     "execution_count": 98,
     "metadata": {},
     "output_type": "execute_result"
    }
   ],
   "source": [
    "doble(2)"
   ]
  },
  {
   "cell_type": "code",
   "execution_count": 99,
   "metadata": {},
   "outputs": [],
   "source": [
    "cuadrado = lambda x: x**2"
   ]
  },
  {
   "cell_type": "code",
   "execution_count": 62,
   "metadata": {},
   "outputs": [
    {
     "data": {
      "text/plain": [
       "25"
      ]
     },
     "execution_count": 62,
     "metadata": {},
     "output_type": "execute_result"
    }
   ],
   "source": [
    "cuadrado(5)"
   ]
  },
  {
   "cell_type": "code",
   "execution_count": 100,
   "metadata": {},
   "outputs": [],
   "source": [
    "suma = lambda x, y: x+y #Funcion suma de lambda"
   ]
  },
  {
   "cell_type": "code",
   "execution_count": 101,
   "metadata": {},
   "outputs": [
    {
     "data": {
      "text/plain": [
       "5"
      ]
     },
     "execution_count": 101,
     "metadata": {},
     "output_type": "execute_result"
    }
   ],
   "source": [
    "suma(2,3)"
   ]
  },
  {
   "cell_type": "code",
   "execution_count": 53,
   "metadata": {},
   "outputs": [],
   "source": [
    "from functools import reduce #Del paquete \"functools\" importemos la libreria \"reduce\""
   ]
  },
  {
   "cell_type": "code",
   "execution_count": 75,
   "metadata": {},
   "outputs": [],
   "source": [
    "data = [1,2,3,4,5,6,7,8,9,10]  #Ejemplo de vector de datos"
   ]
  },
  {
   "cell_type": "code",
   "execution_count": 102,
   "metadata": {},
   "outputs": [],
   "source": [
    "filtered_data = list(filter(lambda datos: (datos*2>8), data))\n",
    "#list() = Funcin que recibe una lista\n",
    "#filter(<condition>,<Data>) = Funcion que filtra un conjunto de datos , segun un criterio "
   ]
  },
  {
   "cell_type": "code",
   "execution_count": 85,
   "metadata": {},
   "outputs": [
    {
     "data": {
      "text/plain": [
       "[5, 6, 7, 8, 9, 10]"
      ]
     },
     "execution_count": 85,
     "metadata": {},
     "output_type": "execute_result"
    }
   ],
   "source": [
    "filtered_data"
   ]
  },
  {
   "cell_type": "code",
   "execution_count": 111,
   "metadata": {},
   "outputs": [],
   "source": [
    "mapped_data = list(map(lambda datos: datos*3, data))\n",
    "#list() = Funcin que recibe una lista\n",
    "#map(<condition_funcion>,<Data>) = Funcion que mapea un conjunto de datos original segun un criterio ye regresa un vector"
   ]
  },
  {
   "cell_type": "code",
   "execution_count": 89,
   "metadata": {},
   "outputs": [
    {
     "data": {
      "text/plain": [
       "[3, 6, 9, 12, 15, 18, 21, 24, 27, 30]"
      ]
     },
     "execution_count": 89,
     "metadata": {},
     "output_type": "execute_result"
    }
   ],
   "source": [
    "mapped_data"
   ]
  },
  {
   "cell_type": "code",
   "execution_count": 117,
   "metadata": {},
   "outputs": [
    {
     "ename": "NameError",
     "evalue": "name 'reduce' is not defined",
     "output_type": "error",
     "traceback": [
      "\u001b[1;31m---------------------------------------------------------------------------\u001b[0m",
      "\u001b[1;31mNameError\u001b[0m                                 Traceback (most recent call last)",
      "\u001b[1;32m<ipython-input-117-92777c5f491b>\u001b[0m in \u001b[0;36m<module>\u001b[1;34m\u001b[0m\n\u001b[0;32m      1\u001b[0m \u001b[1;31m#reduce() = Funcin que reduce la informacion operando de forma sucesiva a un solo parametro, ya no regresa un vector\u001b[0m\u001b[1;33m\u001b[0m\u001b[1;33m\u001b[0m\u001b[1;33m\u001b[0m\u001b[0m\n\u001b[1;32m----> 2\u001b[1;33m \u001b[0mreduced_data\u001b[0m \u001b[1;33m=\u001b[0m \u001b[0mreduce\u001b[0m\u001b[1;33m(\u001b[0m\u001b[1;32mlambda\u001b[0m \u001b[0mx\u001b[0m \u001b[1;33m,\u001b[0m \u001b[0my\u001b[0m\u001b[1;33m:\u001b[0m \u001b[0mx\u001b[0m\u001b[1;33m+\u001b[0m\u001b[0my\u001b[0m\u001b[1;33m,\u001b[0m \u001b[0mdata\u001b[0m\u001b[1;33m)\u001b[0m\u001b[1;33m\u001b[0m\u001b[1;33m\u001b[0m\u001b[0m\n\u001b[0m",
      "\u001b[1;31mNameError\u001b[0m: name 'reduce' is not defined"
     ]
    }
   ],
   "source": [
    "#reduce() = Funcin que reduce la informacion operando de forma sucesiva a un solo parametro, ya no regresa un vector\n",
    "reduced_data = reduce(lambda x , y: x+y, data)"
   ]
  },
  {
   "cell_type": "code",
   "execution_count": null,
   "metadata": {},
   "outputs": [],
   "source": [
    "reduced_data"
   ]
  },
  {
   "cell_type": "code",
   "execution_count": 118,
   "metadata": {},
   "outputs": [],
   "source": [
    "import pandas as pd"
   ]
  },
  {
   "cell_type": "code",
   "execution_count": 91,
   "metadata": {},
   "outputs": [],
   "source": [
    "data = pd.read_csv(\"../../data/bodyfat.txt\", delimiter=\" \")"
   ]
  },
  {
   "cell_type": "code",
   "execution_count": 92,
   "metadata": {},
   "outputs": [
    {
     "data": {
      "text/html": [
       "<div>\n",
       "<style scoped>\n",
       "    .dataframe tbody tr th:only-of-type {\n",
       "        vertical-align: middle;\n",
       "    }\n",
       "\n",
       "    .dataframe tbody tr th {\n",
       "        vertical-align: top;\n",
       "    }\n",
       "\n",
       "    .dataframe thead th {\n",
       "        text-align: right;\n",
       "    }\n",
       "</style>\n",
       "<table border=\"1\" class=\"dataframe\">\n",
       "  <thead>\n",
       "    <tr style=\"text-align: right;\">\n",
       "      <th></th>\n",
       "      <th>Density</th>\n",
       "      <th>Fat</th>\n",
       "      <th>Age</th>\n",
       "      <th>Weight</th>\n",
       "      <th>Height</th>\n",
       "      <th>Neck</th>\n",
       "      <th>Chest</th>\n",
       "      <th>Abdomen</th>\n",
       "      <th>Hip</th>\n",
       "      <th>Thigh</th>\n",
       "      <th>Knee</th>\n",
       "      <th>Ankle</th>\n",
       "      <th>Biceps</th>\n",
       "      <th>Forearm</th>\n",
       "      <th>Wrist</th>\n",
       "    </tr>\n",
       "  </thead>\n",
       "  <tbody>\n",
       "    <tr>\n",
       "      <th>1</th>\n",
       "      <td>1.0708</td>\n",
       "      <td>12.3</td>\n",
       "      <td>23</td>\n",
       "      <td>154.25</td>\n",
       "      <td>67.75</td>\n",
       "      <td>36.2</td>\n",
       "      <td>93.1</td>\n",
       "      <td>85.2</td>\n",
       "      <td>94.5</td>\n",
       "      <td>59.0</td>\n",
       "      <td>37.3</td>\n",
       "      <td>21.9</td>\n",
       "      <td>32.0</td>\n",
       "      <td>27.4</td>\n",
       "      <td>17.1</td>\n",
       "    </tr>\n",
       "    <tr>\n",
       "      <th>2</th>\n",
       "      <td>1.0853</td>\n",
       "      <td>6.1</td>\n",
       "      <td>22</td>\n",
       "      <td>173.25</td>\n",
       "      <td>72.25</td>\n",
       "      <td>38.5</td>\n",
       "      <td>93.6</td>\n",
       "      <td>83.0</td>\n",
       "      <td>98.7</td>\n",
       "      <td>58.7</td>\n",
       "      <td>37.3</td>\n",
       "      <td>23.4</td>\n",
       "      <td>30.5</td>\n",
       "      <td>28.9</td>\n",
       "      <td>18.2</td>\n",
       "    </tr>\n",
       "    <tr>\n",
       "      <th>3</th>\n",
       "      <td>1.0414</td>\n",
       "      <td>25.3</td>\n",
       "      <td>22</td>\n",
       "      <td>154.00</td>\n",
       "      <td>66.25</td>\n",
       "      <td>34.0</td>\n",
       "      <td>95.8</td>\n",
       "      <td>87.9</td>\n",
       "      <td>99.2</td>\n",
       "      <td>59.6</td>\n",
       "      <td>38.9</td>\n",
       "      <td>24.0</td>\n",
       "      <td>28.8</td>\n",
       "      <td>25.2</td>\n",
       "      <td>16.6</td>\n",
       "    </tr>\n",
       "    <tr>\n",
       "      <th>4</th>\n",
       "      <td>1.0751</td>\n",
       "      <td>10.4</td>\n",
       "      <td>26</td>\n",
       "      <td>184.75</td>\n",
       "      <td>72.25</td>\n",
       "      <td>37.4</td>\n",
       "      <td>101.8</td>\n",
       "      <td>86.4</td>\n",
       "      <td>101.2</td>\n",
       "      <td>60.1</td>\n",
       "      <td>37.3</td>\n",
       "      <td>22.8</td>\n",
       "      <td>32.4</td>\n",
       "      <td>29.4</td>\n",
       "      <td>18.2</td>\n",
       "    </tr>\n",
       "    <tr>\n",
       "      <th>5</th>\n",
       "      <td>1.0340</td>\n",
       "      <td>28.7</td>\n",
       "      <td>24</td>\n",
       "      <td>184.25</td>\n",
       "      <td>71.25</td>\n",
       "      <td>34.4</td>\n",
       "      <td>97.3</td>\n",
       "      <td>100.0</td>\n",
       "      <td>101.9</td>\n",
       "      <td>63.2</td>\n",
       "      <td>42.2</td>\n",
       "      <td>24.0</td>\n",
       "      <td>32.2</td>\n",
       "      <td>27.7</td>\n",
       "      <td>17.7</td>\n",
       "    </tr>\n",
       "  </tbody>\n",
       "</table>\n",
       "</div>"
      ],
      "text/plain": [
       "   Density   Fat  Age  Weight  Height  Neck  Chest  Abdomen    Hip  Thigh  \\\n",
       "1   1.0708  12.3   23  154.25   67.75  36.2   93.1     85.2   94.5   59.0   \n",
       "2   1.0853   6.1   22  173.25   72.25  38.5   93.6     83.0   98.7   58.7   \n",
       "3   1.0414  25.3   22  154.00   66.25  34.0   95.8     87.9   99.2   59.6   \n",
       "4   1.0751  10.4   26  184.75   72.25  37.4  101.8     86.4  101.2   60.1   \n",
       "5   1.0340  28.7   24  184.25   71.25  34.4   97.3    100.0  101.9   63.2   \n",
       "\n",
       "   Knee  Ankle  Biceps  Forearm  Wrist  \n",
       "1  37.3   21.9    32.0     27.4   17.1  \n",
       "2  37.3   23.4    30.5     28.9   18.2  \n",
       "3  38.9   24.0    28.8     25.2   16.6  \n",
       "4  37.3   22.8    32.4     29.4   18.2  \n",
       "5  42.2   24.0    32.2     27.7   17.7  "
      ]
     },
     "execution_count": 92,
     "metadata": {},
     "output_type": "execute_result"
    }
   ],
   "source": [
    "data.head()"
   ]
  },
  {
   "cell_type": "code",
   "execution_count": 74,
   "metadata": {},
   "outputs": [
    {
     "data": {
      "text/html": [
       "<div>\n",
       "<style scoped>\n",
       "    .dataframe tbody tr th:only-of-type {\n",
       "        vertical-align: middle;\n",
       "    }\n",
       "\n",
       "    .dataframe tbody tr th {\n",
       "        vertical-align: top;\n",
       "    }\n",
       "\n",
       "    .dataframe thead th {\n",
       "        text-align: right;\n",
       "    }\n",
       "</style>\n",
       "<table border=\"1\" class=\"dataframe\">\n",
       "  <thead>\n",
       "    <tr style=\"text-align: right;\">\n",
       "      <th></th>\n",
       "      <th>1  2200  51.0  1128  70.9  7  0.25  54.8  1720</th>\n",
       "    </tr>\n",
       "  </thead>\n",
       "  <tbody>\n",
       "    <tr>\n",
       "      <th>70</th>\n",
       "      <td>8  1450  51.4  997  73.4  7  0.10  55.2  1454</td>\n",
       "    </tr>\n",
       "    <tr>\n",
       "      <th>71</th>\n",
       "      <td>8  1200  49.8  991  70.8  6  0.15  54.6  1475</td>\n",
       "    </tr>\n",
       "    <tr>\n",
       "      <th>72</th>\n",
       "      <td>8  1425  50.0  928  70.8  6  0.10  53.9  1375</td>\n",
       "    </tr>\n",
       "    <tr>\n",
       "      <th>73</th>\n",
       "      <td>8  1250  50.1  990  71.0  6  0.10  54.9  1564</td>\n",
       "    </tr>\n",
       "    <tr>\n",
       "      <th>74</th>\n",
       "      <td>8  1500  51.7  992  70.6  7  0.15  55.1  1458</td>\n",
       "    </tr>\n",
       "  </tbody>\n",
       "</table>\n",
       "</div>"
      ],
      "text/plain": [
       "     1  2200  51.0  1128  70.9  7  0.25  54.8  1720\n",
       "70    8  1450  51.4  997  73.4  7  0.10  55.2  1454\n",
       "71    8  1200  49.8  991  70.8  6  0.15  54.6  1475\n",
       "72    8  1425  50.0  928  70.8  6  0.10  53.9  1375\n",
       "73    8  1250  50.1  990  71.0  6  0.10  54.9  1564\n",
       "74    8  1500  51.7  992  70.6  7  0.15  55.1  1458"
      ]
     },
     "execution_count": 74,
     "metadata": {},
     "output_type": "execute_result"
    }
   ],
   "source": [
    "data.tail()"
   ]
  },
  {
   "cell_type": "code",
   "execution_count": 94,
   "metadata": {},
   "outputs": [
    {
     "data": {
      "text/html": [
       "<div>\n",
       "<style scoped>\n",
       "    .dataframe tbody tr th:only-of-type {\n",
       "        vertical-align: middle;\n",
       "    }\n",
       "\n",
       "    .dataframe tbody tr th {\n",
       "        vertical-align: top;\n",
       "    }\n",
       "\n",
       "    .dataframe thead th {\n",
       "        text-align: right;\n",
       "    }\n",
       "</style>\n",
       "<table border=\"1\" class=\"dataframe\">\n",
       "  <thead>\n",
       "    <tr style=\"text-align: right;\">\n",
       "      <th></th>\n",
       "      <th>Density</th>\n",
       "      <th>Fat</th>\n",
       "      <th>Age</th>\n",
       "      <th>Weight</th>\n",
       "      <th>Height</th>\n",
       "      <th>Neck</th>\n",
       "      <th>Chest</th>\n",
       "      <th>Abdomen</th>\n",
       "      <th>Hip</th>\n",
       "      <th>Thigh</th>\n",
       "      <th>Knee</th>\n",
       "      <th>Ankle</th>\n",
       "      <th>Biceps</th>\n",
       "      <th>Forearm</th>\n",
       "      <th>Wrist</th>\n",
       "    </tr>\n",
       "  </thead>\n",
       "  <tbody>\n",
       "    <tr>\n",
       "      <th>1</th>\n",
       "      <td>1.0708</td>\n",
       "      <td>12.3</td>\n",
       "      <td>23</td>\n",
       "      <td>154.25</td>\n",
       "      <td>67.75</td>\n",
       "      <td>36.2</td>\n",
       "      <td>93.1</td>\n",
       "      <td>85.2</td>\n",
       "      <td>94.5</td>\n",
       "      <td>59.0</td>\n",
       "      <td>37.3</td>\n",
       "      <td>21.9</td>\n",
       "      <td>32.0</td>\n",
       "      <td>27.4</td>\n",
       "      <td>17.1</td>\n",
       "    </tr>\n",
       "  </tbody>\n",
       "</table>\n",
       "</div>"
      ],
      "text/plain": [
       "   Density   Fat  Age  Weight  Height  Neck  Chest  Abdomen   Hip  Thigh  \\\n",
       "1   1.0708  12.3   23  154.25   67.75  36.2   93.1     85.2  94.5   59.0   \n",
       "\n",
       "   Knee  Ankle  Biceps  Forearm  Wrist  \n",
       "1  37.3   21.9    32.0     27.4   17.1  "
      ]
     },
     "execution_count": 94,
     "metadata": {},
     "output_type": "execute_result"
    }
   ],
   "source": [
    "data.iloc[[0]]"
   ]
  },
  {
   "cell_type": "code",
   "execution_count": 83,
   "metadata": {},
   "outputs": [
    {
     "data": {
      "text/html": [
       "<div>\n",
       "<style scoped>\n",
       "    .dataframe tbody tr th:only-of-type {\n",
       "        vertical-align: middle;\n",
       "    }\n",
       "\n",
       "    .dataframe tbody tr th {\n",
       "        vertical-align: top;\n",
       "    }\n",
       "\n",
       "    .dataframe thead th {\n",
       "        text-align: right;\n",
       "    }\n",
       "</style>\n",
       "<table border=\"1\" class=\"dataframe\">\n",
       "  <thead>\n",
       "    <tr style=\"text-align: right;\">\n",
       "      <th></th>\n",
       "      <th>1  2200  51.0  1128  70.9  7  0.25  54.8  1720</th>\n",
       "    </tr>\n",
       "  </thead>\n",
       "  <tbody>\n",
       "    <tr>\n",
       "      <th>0</th>\n",
       "      <td>1  2250  51.9  1108  72.1  7  0.25  55.3  1575</td>\n",
       "    </tr>\n",
       "  </tbody>\n",
       "</table>\n",
       "</div>"
      ],
      "text/plain": [
       "     1  2200  51.0  1128  70.9  7  0.25  54.8  1720\n",
       "0    1  2250  51.9  1108  72.1  7  0.25  55.3  1575"
      ]
     },
     "execution_count": 83,
     "metadata": {},
     "output_type": "execute_result"
    }
   ],
   "source": [
    "data.loc[[0]]"
   ]
  },
  {
   "cell_type": "code",
   "execution_count": 87,
   "metadata": {},
   "outputs": [
    {
     "data": {
      "text/html": [
       "<div>\n",
       "<style scoped>\n",
       "    .dataframe tbody tr th:only-of-type {\n",
       "        vertical-align: middle;\n",
       "    }\n",
       "\n",
       "    .dataframe tbody tr th {\n",
       "        vertical-align: top;\n",
       "    }\n",
       "\n",
       "    .dataframe thead th {\n",
       "        text-align: right;\n",
       "    }\n",
       "</style>\n",
       "<table border=\"1\" class=\"dataframe\">\n",
       "  <thead>\n",
       "    <tr style=\"text-align: right;\">\n",
       "      <th></th>\n",
       "      <th>1  2200  51.0  1128  70.9  7  0.25  54.8  1720</th>\n",
       "    </tr>\n",
       "  </thead>\n",
       "  <tbody>\n",
       "    <tr>\n",
       "      <th>1</th>\n",
       "      <td>1  1625  49.9  1011  71.6  6  0.15  53.1  1410</td>\n",
       "    </tr>\n",
       "    <tr>\n",
       "      <th>3</th>\n",
       "      <td>1  2150  51.2  996  68.6  7  0.25  55.0  1488</td>\n",
       "    </tr>\n",
       "    <tr>\n",
       "      <th>5</th>\n",
       "      <td>1  2250  51.0  959  72.1  7  0.20  54.0  1522</td>\n",
       "    </tr>\n",
       "    <tr>\n",
       "      <th>7</th>\n",
       "      <td>1  1600  50.1  979  71.2  6  0.25  51.5  1365</td>\n",
       "    </tr>\n",
       "    <tr>\n",
       "      <th>9</th>\n",
       "      <td>1  1850  50.6  1036  69.2  6  0.15  54.8  1570</td>\n",
       "    </tr>\n",
       "  </tbody>\n",
       "</table>\n",
       "</div>"
      ],
      "text/plain": [
       "     1  2200  51.0  1128  70.9  7  0.25  54.8  1720\n",
       "1    1  1625  49.9  1011  71.6  6  0.15  53.1  1410\n",
       "3     1  2150  51.2  996  68.6  7  0.25  55.0  1488\n",
       "5     1  2250  51.0  959  72.1  7  0.20  54.0  1522\n",
       "7     1  1600  50.1  979  71.2  6  0.25  51.5  1365\n",
       "9    1  1850  50.6  1036  69.2  6  0.15  54.8  1570"
      ]
     },
     "execution_count": 87,
     "metadata": {},
     "output_type": "execute_result"
    }
   ],
   "source": [
    "data[1:10:2]"
   ]
  },
  {
   "cell_type": "code",
   "execution_count": 98,
   "metadata": {},
   "outputs": [
    {
     "data": {
      "text/html": [
       "<div>\n",
       "<style scoped>\n",
       "    .dataframe tbody tr th:only-of-type {\n",
       "        vertical-align: middle;\n",
       "    }\n",
       "\n",
       "    .dataframe tbody tr th {\n",
       "        vertical-align: top;\n",
       "    }\n",
       "\n",
       "    .dataframe thead th {\n",
       "        text-align: right;\n",
       "    }\n",
       "</style>\n",
       "<table border=\"1\" class=\"dataframe\">\n",
       "  <thead>\n",
       "    <tr style=\"text-align: right;\">\n",
       "      <th></th>\n",
       "      <th>Density</th>\n",
       "      <th>Fat</th>\n",
       "      <th>Age</th>\n",
       "      <th>Weight</th>\n",
       "      <th>Height</th>\n",
       "      <th>Neck</th>\n",
       "      <th>Chest</th>\n",
       "      <th>Abdomen</th>\n",
       "      <th>Hip</th>\n",
       "      <th>Thigh</th>\n",
       "      <th>Knee</th>\n",
       "      <th>Ankle</th>\n",
       "      <th>Biceps</th>\n",
       "      <th>Forearm</th>\n",
       "      <th>Wrist</th>\n",
       "    </tr>\n",
       "  </thead>\n",
       "  <tbody>\n",
       "    <tr>\n",
       "      <th>count</th>\n",
       "      <td>252.000000</td>\n",
       "      <td>252.000000</td>\n",
       "      <td>252.000000</td>\n",
       "      <td>252.000000</td>\n",
       "      <td>252.000000</td>\n",
       "      <td>252.000000</td>\n",
       "      <td>252.000000</td>\n",
       "      <td>252.000000</td>\n",
       "      <td>252.000000</td>\n",
       "      <td>252.000000</td>\n",
       "      <td>252.000000</td>\n",
       "      <td>252.000000</td>\n",
       "      <td>252.000000</td>\n",
       "      <td>252.000000</td>\n",
       "      <td>252.000000</td>\n",
       "    </tr>\n",
       "    <tr>\n",
       "      <th>mean</th>\n",
       "      <td>1.055574</td>\n",
       "      <td>19.150794</td>\n",
       "      <td>44.884921</td>\n",
       "      <td>178.924405</td>\n",
       "      <td>70.148810</td>\n",
       "      <td>37.992063</td>\n",
       "      <td>100.824206</td>\n",
       "      <td>92.555952</td>\n",
       "      <td>99.904762</td>\n",
       "      <td>59.405952</td>\n",
       "      <td>38.590476</td>\n",
       "      <td>23.102381</td>\n",
       "      <td>32.273413</td>\n",
       "      <td>28.663889</td>\n",
       "      <td>18.229762</td>\n",
       "    </tr>\n",
       "    <tr>\n",
       "      <th>std</th>\n",
       "      <td>0.019031</td>\n",
       "      <td>8.368740</td>\n",
       "      <td>12.602040</td>\n",
       "      <td>29.389160</td>\n",
       "      <td>3.662856</td>\n",
       "      <td>2.430913</td>\n",
       "      <td>8.430476</td>\n",
       "      <td>10.783077</td>\n",
       "      <td>7.164058</td>\n",
       "      <td>5.249952</td>\n",
       "      <td>2.411805</td>\n",
       "      <td>1.694893</td>\n",
       "      <td>3.021274</td>\n",
       "      <td>2.020691</td>\n",
       "      <td>0.933585</td>\n",
       "    </tr>\n",
       "    <tr>\n",
       "      <th>min</th>\n",
       "      <td>0.995000</td>\n",
       "      <td>0.000000</td>\n",
       "      <td>22.000000</td>\n",
       "      <td>118.500000</td>\n",
       "      <td>29.500000</td>\n",
       "      <td>31.100000</td>\n",
       "      <td>79.300000</td>\n",
       "      <td>69.400000</td>\n",
       "      <td>85.000000</td>\n",
       "      <td>47.200000</td>\n",
       "      <td>33.000000</td>\n",
       "      <td>19.100000</td>\n",
       "      <td>24.800000</td>\n",
       "      <td>21.000000</td>\n",
       "      <td>15.800000</td>\n",
       "    </tr>\n",
       "    <tr>\n",
       "      <th>25%</th>\n",
       "      <td>1.041400</td>\n",
       "      <td>12.475000</td>\n",
       "      <td>35.750000</td>\n",
       "      <td>159.000000</td>\n",
       "      <td>68.250000</td>\n",
       "      <td>36.400000</td>\n",
       "      <td>94.350000</td>\n",
       "      <td>84.575000</td>\n",
       "      <td>95.500000</td>\n",
       "      <td>56.000000</td>\n",
       "      <td>36.975000</td>\n",
       "      <td>22.000000</td>\n",
       "      <td>30.200000</td>\n",
       "      <td>27.300000</td>\n",
       "      <td>17.600000</td>\n",
       "    </tr>\n",
       "    <tr>\n",
       "      <th>50%</th>\n",
       "      <td>1.054900</td>\n",
       "      <td>19.200000</td>\n",
       "      <td>43.000000</td>\n",
       "      <td>176.500000</td>\n",
       "      <td>70.000000</td>\n",
       "      <td>38.000000</td>\n",
       "      <td>99.650000</td>\n",
       "      <td>90.950000</td>\n",
       "      <td>99.300000</td>\n",
       "      <td>59.000000</td>\n",
       "      <td>38.500000</td>\n",
       "      <td>22.800000</td>\n",
       "      <td>32.050000</td>\n",
       "      <td>28.700000</td>\n",
       "      <td>18.300000</td>\n",
       "    </tr>\n",
       "    <tr>\n",
       "      <th>75%</th>\n",
       "      <td>1.070400</td>\n",
       "      <td>25.300000</td>\n",
       "      <td>54.000000</td>\n",
       "      <td>197.000000</td>\n",
       "      <td>72.250000</td>\n",
       "      <td>39.425000</td>\n",
       "      <td>105.375000</td>\n",
       "      <td>99.325000</td>\n",
       "      <td>103.525000</td>\n",
       "      <td>62.350000</td>\n",
       "      <td>39.925000</td>\n",
       "      <td>24.000000</td>\n",
       "      <td>34.325000</td>\n",
       "      <td>30.000000</td>\n",
       "      <td>18.800000</td>\n",
       "    </tr>\n",
       "    <tr>\n",
       "      <th>max</th>\n",
       "      <td>1.108900</td>\n",
       "      <td>47.500000</td>\n",
       "      <td>81.000000</td>\n",
       "      <td>363.150000</td>\n",
       "      <td>77.750000</td>\n",
       "      <td>51.200000</td>\n",
       "      <td>136.200000</td>\n",
       "      <td>148.100000</td>\n",
       "      <td>147.700000</td>\n",
       "      <td>87.300000</td>\n",
       "      <td>49.100000</td>\n",
       "      <td>33.900000</td>\n",
       "      <td>45.000000</td>\n",
       "      <td>34.900000</td>\n",
       "      <td>21.400000</td>\n",
       "    </tr>\n",
       "  </tbody>\n",
       "</table>\n",
       "</div>"
      ],
      "text/plain": [
       "          Density         Fat         Age      Weight      Height        Neck  \\\n",
       "count  252.000000  252.000000  252.000000  252.000000  252.000000  252.000000   \n",
       "mean     1.055574   19.150794   44.884921  178.924405   70.148810   37.992063   \n",
       "std      0.019031    8.368740   12.602040   29.389160    3.662856    2.430913   \n",
       "min      0.995000    0.000000   22.000000  118.500000   29.500000   31.100000   \n",
       "25%      1.041400   12.475000   35.750000  159.000000   68.250000   36.400000   \n",
       "50%      1.054900   19.200000   43.000000  176.500000   70.000000   38.000000   \n",
       "75%      1.070400   25.300000   54.000000  197.000000   72.250000   39.425000   \n",
       "max      1.108900   47.500000   81.000000  363.150000   77.750000   51.200000   \n",
       "\n",
       "            Chest     Abdomen         Hip       Thigh        Knee       Ankle  \\\n",
       "count  252.000000  252.000000  252.000000  252.000000  252.000000  252.000000   \n",
       "mean   100.824206   92.555952   99.904762   59.405952   38.590476   23.102381   \n",
       "std      8.430476   10.783077    7.164058    5.249952    2.411805    1.694893   \n",
       "min     79.300000   69.400000   85.000000   47.200000   33.000000   19.100000   \n",
       "25%     94.350000   84.575000   95.500000   56.000000   36.975000   22.000000   \n",
       "50%     99.650000   90.950000   99.300000   59.000000   38.500000   22.800000   \n",
       "75%    105.375000   99.325000  103.525000   62.350000   39.925000   24.000000   \n",
       "max    136.200000  148.100000  147.700000   87.300000   49.100000   33.900000   \n",
       "\n",
       "           Biceps     Forearm       Wrist  \n",
       "count  252.000000  252.000000  252.000000  \n",
       "mean    32.273413   28.663889   18.229762  \n",
       "std      3.021274    2.020691    0.933585  \n",
       "min     24.800000   21.000000   15.800000  \n",
       "25%     30.200000   27.300000   17.600000  \n",
       "50%     32.050000   28.700000   18.300000  \n",
       "75%     34.325000   30.000000   18.800000  \n",
       "max     45.000000   34.900000   21.400000  "
      ]
     },
     "execution_count": 98,
     "metadata": {},
     "output_type": "execute_result"
    }
   ],
   "source": [
    "data.describe()"
   ]
  }
 ],
 "metadata": {
  "kernelspec": {
   "display_name": "Python 3",
   "language": "python",
   "name": "python3"
  },
  "language_info": {
   "codemirror_mode": {
    "name": "ipython",
    "version": 3
   },
   "file_extension": ".py",
   "mimetype": "text/x-python",
   "name": "python",
   "nbconvert_exporter": "python",
   "pygments_lexer": "ipython3",
   "version": "3.7.6"
  }
 },
 "nbformat": 4,
 "nbformat_minor": 2
}
