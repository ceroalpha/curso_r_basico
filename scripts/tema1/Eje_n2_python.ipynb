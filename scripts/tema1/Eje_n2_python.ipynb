{
 "cells": [
  {
   "cell_type": "code",
   "execution_count": 3,
   "metadata": {},
   "outputs": [
    {
     "name": "stdout",
     "output_type": "stream",
     "text": [
      "Ingresa un numero:3\n",
      "El numero ingresado es positivo\n"
     ]
    }
   ],
   "source": [
    "numero_positivo=float(input(\"Ingresa un numero:\"))\n",
    "if numero_positivo > 0:\n",
    "    print(\"El numero ingresado es positivo\")\n",
    "else:\n",
    "    print(\"El numero ingresado es negativo\")"
   ]
  },
  {
   "cell_type": "code",
   "execution_count": 5,
   "metadata": {},
   "outputs": [
    {
     "name": "stdout",
     "output_type": "stream",
     "text": [
      "Ingresa un numero:4\n",
      "El numero esta en el rango entre -5 y 5\n"
     ]
    }
   ],
   "source": [
    "numero = float(input(\"Ingresa un numero:\"))\n",
    "if -5 <= numero <= 5 :\n",
    "    print(\"El numero esta en el rango entre -5 y 5\")\n",
    "else:\n",
    "    print(\"El numero \"+str(numero)+ \"no esta en el rango entre -5 y 5\")"
   ]
  },
  {
   "cell_type": "code",
   "execution_count": 6,
   "metadata": {},
   "outputs": [
    {
     "name": "stdout",
     "output_type": "stream",
     "text": [
      "Ingrese la cordenada del eje X: 4\n",
      "Ingrese la cordenada del eje Y: -5\n",
      "== Las coordenadas esta en el eje == ( X , -Y) \n"
     ]
    }
   ],
   "source": [
    "eje_x= float(input(\"Ingrese la cordenada del eje X: \"))\n",
    "eje_y= float(input(\"Ingrese la cordenada del eje Y: \")) \n",
    "if eje_x > 0 and eje_y > 0:\n",
    "    print(\"== Las coordenadas esta en el eje == ( X , Y) \")\n",
    "if eje_x > 0 and eje_y < 0:\n",
    "    print(\"== Las coordenadas esta en el eje == ( X , -Y) \")\n",
    "if eje_x < 0 and eje_y > 0:\n",
    "    print(\"== Las coordenadas esta en el eje == ( -X , Y) \")\n",
    "if eje_x < 0 and eje_y < 0:\n",
    "    print(\"== Las coordenadas esta en el eje == ( -X , -Y) \")"
   ]
  },
  {
   "cell_type": "code",
   "execution_count": 34,
   "metadata": {},
   "outputs": [
    {
     "name": "stdout",
     "output_type": "stream",
     "text": [
      "Ingrese el dividendo: 40\n",
      "Ingrese el divisor: 4\n",
      "El resultado de la division: Cociente:10.0   Resto: 0.0\n"
     ]
    }
   ],
   "source": [
    "dividendo= float(input(\"Ingrese el dividendo: \")) \n",
    "divisor  = float(input(\"Ingrese el divisor: \"))\n",
    "cociente= dividendo/divisor\n",
    "resto  =dividendo%divisor\n",
    "print(\"El resultado de la division: Cociente:\"+str(cociente)+\"   Resto: \"+str(resto))"
   ]
  },
  {
   "cell_type": "code",
   "execution_count": 33,
   "metadata": {},
   "outputs": [
    {
     "name": "stdout",
     "output_type": "stream",
     "text": [
      "Ingrese un numero entero para determinar si es Cuadrado Perfecto: 2\n",
      "== El numero No es Cuadrado Perfecto==\n"
     ]
    }
   ],
   "source": [
    "import math \n",
    "cuadrado = float(input(\"Ingrese un numero entero para determinar si es Cuadrado Perfecto: \")) \n",
    "c_perfecto= math.trunc(math.sqrt(cuadrado))\n",
    "if cuadrado == c_perfecto**2:\n",
    "    print(\"== El numero :\"+str(cuadrado)+\" Es un Cuadrado Perfecto==\" )\n",
    "else:\n",
    "    print(\"== El numero No es Cuadrado Perfecto==\" )"
   ]
  },
  {
   "cell_type": "code",
   "execution_count": 41,
   "metadata": {},
   "outputs": [
    {
     "name": "stdout",
     "output_type": "stream",
     "text": [
      "Ingresa un numero entero positivo: 500\n",
      "== El numero No es Año Biciesto==\n"
     ]
    }
   ],
   "source": [
    "evalua_anio= int(input(\"Ingresa un numero entero positivo: \"))\n",
    "if evalua_anio%100 == 0 or evalua_anio%4 >0 :\n",
    "     print(\"== El numero No es Año Biciesto==\" )\n",
    "elif evalua_anio%400 == 0 or evalua_anio%4==0 :\n",
    "    print(\"== El numero corresponde a un Año Biciesto==\" )"
   ]
  },
  {
   "cell_type": "code",
   "execution_count": 95,
   "metadata": {},
   "outputs": [
    {
     "name": "stdout",
     "output_type": "stream",
     "text": [
      "Ingresa las coodenadas del tablero de ajedrez, para detemrinar la CASILLA\n",
      "Ingrese la cordenada [A - H] :A\n",
      "Ingrese la cordenada [1 - 8] :8\n",
      "LA CASILLA: A - 8  ES BLANCA\n"
     ]
    }
   ],
   "source": [
    "print(\"Ingresa las coodenadas del tablero de ajedrez, para detemrinar la CASILLA\")\n",
    "eje_l= str(input(\"Ingrese la cordenada [A - H] :\"))\n",
    "eje_n= str(input(\"Ingrese la cordenada [1 - 8] :\")) \n",
    "vector1 = [\"A\",\"C\",\"E\",\"G\",\"2\",\"4\",\"6\",\"8\"] \n",
    "vector2 = [\"B\",\"D\",\"F\",\"H\",\"1\",\"3\",\"5\",\"7\"]\n",
    "v1= 0\n",
    "v2= 0\n",
    "for i in vector1 :\n",
    "    if i == eje_l: v1=v1+1\n",
    "    if i == eje_n: v1=v1+1\n",
    "        \n",
    "for z in vector2 :\n",
    "    if z == eje_l: v2=v2+1\n",
    "    if z == eje_n: v2=v2+1\n",
    "        \n",
    "if v1==2 or v2==2:\n",
    "    print(\"LA CASILLA: \"+str(eje_l)+\" - \"+str(eje_n)+\"  ES BLANCA\")\n",
    "else:\n",
    "    print(\"LA  CASILLA ES NEGRA..\")"
   ]
  }
 ],
 "metadata": {
  "kernelspec": {
   "display_name": "Python 3",
   "language": "python",
   "name": "python3"
  },
  "language_info": {
   "codemirror_mode": {
    "name": "ipython",
    "version": 3
   },
   "file_extension": ".py",
   "mimetype": "text/x-python",
   "name": "python",
   "nbconvert_exporter": "python",
   "pygments_lexer": "ipython3",
   "version": "3.7.6"
  }
 },
 "nbformat": 4,
 "nbformat_minor": 4
}
