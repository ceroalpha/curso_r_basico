{
 "cells": [
  {
   "cell_type": "markdown",
   "metadata": {},
   "source": [
    "# Histogramas en Python"
   ]
  },
  {
   "cell_type": "markdown",
   "metadata": {},
   "source": [
    "## I. Histogramas en python (sin librerias)"
   ]
  },
  {
   "cell_type": "code",
   "execution_count": 11,
   "metadata": {},
   "outputs": [],
   "source": [
    "#Definimos una lista de datos\n",
    "x = (0,1,1,1,2,2,3,7,7,7,25)"
   ]
  },
  {
   "cell_type": "code",
   "execution_count": 12,
   "metadata": {},
   "outputs": [],
   "source": [
    "#Definimos una funcion\n",
    "\n",
    "def count_elements(seq) -> dict:\n",
    "    \"\"\"\n",
    "    Función que cuenta las frecuencias\n",
    "    de aparición de cada elemento de la\n",
    "    secuencia, creando un diccionario como\n",
    "    si fuese una tabla de frecuencias\n",
    "    \"\"\"\n",
    "    hist = {}  #Creamos un diccionario\n",
    "    for i in seq: #recorremos la lista\n",
    "        hist[i] = hist.get(i, 0) + 1 #get(i,0) obtiene el valor del diccionaro en pos=i, la 1ra vez no exite, le coloca \"0\"\n",
    "    return hist"
   ]
  },
  {
   "cell_type": "code",
   "execution_count": 13,
   "metadata": {},
   "outputs": [],
   "source": [
    "#calculamos la fecuencia absoluta de la lista\n",
    "fAbs = count_elements(x)"
   ]
  },
  {
   "cell_type": "code",
   "execution_count": 14,
   "metadata": {},
   "outputs": [
    {
     "data": {
      "text/plain": [
       "{0: 1, 1: 3, 2: 2, 3: 1, 7: 3, 25: 1}"
      ]
     },
     "execution_count": 14,
     "metadata": {},
     "output_type": "execute_result"
    }
   ],
   "source": [
    "fAbs"
   ]
  },
  {
   "cell_type": "code",
   "execution_count": 15,
   "metadata": {},
   "outputs": [],
   "source": [
    "#Otra forma de sacar la frecuencia absoluta \n",
    "#pero importando la libreria counter\n",
    "\n",
    "from collections import Counter"
   ]
  },
  {
   "cell_type": "code",
   "execution_count": 16,
   "metadata": {},
   "outputs": [],
   "source": [
    "#calculamos la fecuencia absoluta de la lista\n",
    "fAbs2 = Counter(x)"
   ]
  },
  {
   "cell_type": "code",
   "execution_count": 17,
   "metadata": {},
   "outputs": [
    {
     "data": {
      "text/plain": [
       "Counter({0: 1, 1: 3, 2: 2, 3: 1, 7: 3, 25: 1})"
      ]
     },
     "execution_count": 17,
     "metadata": {},
     "output_type": "execute_result"
    }
   ],
   "source": [
    "fAbs2  "
   ]
  },
  {
   "cell_type": "code",
   "execution_count": 18,
   "metadata": {},
   "outputs": [
    {
     "data": {
      "text/plain": [
       "True"
      ]
     },
     "execution_count": 18,
     "metadata": {},
     "output_type": "execute_result"
    }
   ],
   "source": [
    "#Comparamos las dos FRE ABSOLUTA para validar si son iguales \n",
    "fAbs.items() == fAbs2.items()"
   ]
  },
  {
   "cell_type": "code",
   "execution_count": 19,
   "metadata": {},
   "outputs": [],
   "source": [
    "#Construimos un histograma de forma manual en codigo\n",
    "def ascii_histogram(seq) -> None:\n",
    "    \"\"\"\n",
    "    Un histograma de frecuencias absolutas\n",
    "    colocado en horizontal y con caracteres ASCII\n",
    "    \"\"\"\n",
    "    fAbs = count_elements(seq)\n",
    "    for k in sorted(fAbs): #Ordenamos la lista de datos\n",
    "        #{0:5d} Reservamos 5 espacios y presentamos por cada elemento se imeprime tantas veces este en la lista *fAbs[k]\n",
    "        print('{0:5d} {1}'.format(k, '+'*fAbs[k])) #Imprime "
   ]
  },
  {
   "cell_type": "code",
   "execution_count": 20,
   "metadata": {},
   "outputs": [
    {
     "name": "stdout",
     "output_type": "stream",
     "text": [
      "    0 +\n",
      "    1 +++\n",
      "    2 ++\n",
      "    3 +\n",
      "    7 +++\n",
      "   25 +\n"
     ]
    }
   ],
   "source": [
    "#Hacemos uso de la funcion para pintar un histograa de forma manual\n",
    "ascii_histogram(x)"
   ]
  },
  {
   "cell_type": "code",
   "execution_count": 21,
   "metadata": {},
   "outputs": [],
   "source": [
    "import random\n",
    "random.seed(2019) #Generamos una semilla de datos aleatorios"
   ]
  },
  {
   "cell_type": "code",
   "execution_count": 22,
   "metadata": {},
   "outputs": [],
   "source": [
    "#Creamos una lista de valores que se utilizaran como referencia para valores del Eje X\n",
    "valores = [1,2,3,5,7,8,9,10]  \n",
    "#Esta variable genera datos aleatorios entre 5-20 para cada  numero de la lista \"valores()\"\n",
    "freqs = (random.randint(5,20) for _ in valores)  "
   ]
  },
  {
   "cell_type": "code",
   "execution_count": 23,
   "metadata": {},
   "outputs": [],
   "source": [
    "#creamos una valirable tupla \n",
    "data = []\n",
    "for k, v in zip(valores, freqs):\n",
    "    data.extend([k]*v) #genera una tupla donde aparece cada uno de los valores tantas veces este la clave"
   ]
  },
  {
   "cell_type": "code",
   "execution_count": 24,
   "metadata": {},
   "outputs": [
    {
     "name": "stdout",
     "output_type": "stream",
     "text": [
      "    1 +++++++++\n",
      "    2 ++++++++++++\n",
      "    3 ++++++++++++++++++++\n",
      "    5 ++++++++++\n",
      "    7 ++++++++++++\n",
      "    8 ++++++++++++\n",
      "    9 +++++++++++++++\n",
      "   10 ++++++++++++++\n"
     ]
    }
   ],
   "source": [
    "#Generamos el histograma de forma manual\n",
    "ascii_histogram(data)"
   ]
  },
  {
   "cell_type": "markdown",
   "metadata": {},
   "source": [
    "## II. Histogramas con Numpy"
   ]
  },
  {
   "cell_type": "code",
   "execution_count": 141,
   "metadata": {},
   "outputs": [],
   "source": [
    "#Es ta biblioteca permite trabajar con datos de forma mas facil, implementando funciones matematicas \n",
    "#y haciendo uso de funciones para manipulacion de datos, graficos y funciones estadisticas \n",
    "\n",
    "import numpy as np "
   ]
  },
  {
   "cell_type": "code",
   "execution_count": 45,
   "metadata": {},
   "outputs": [],
   "source": [
    "np.random.seed(2019)"
   ]
  },
  {
   "cell_type": "code",
   "execution_count": 27,
   "metadata": {},
   "outputs": [],
   "source": [
    "#Generamos la distribucion\n",
    "np.set_printoptions(precision=3) #set_printoptions, solo imprime datos con precision de 3 decimales"
   ]
  },
  {
   "cell_type": "code",
   "execution_count": 28,
   "metadata": {},
   "outputs": [],
   "source": [
    "#Hacemos uso de la funcion LAPLACE parala distribucion de los datos\n",
    "#np.random.laplace(loc=<localizacion o media>, scale=<escala>, size=<numero de datos>)\n",
    "x= np.random.laplace(loc=10, scale=3,  size= 1000 )"
   ]
  },
  {
   "cell_type": "code",
   "execution_count": 29,
   "metadata": {},
   "outputs": [
    {
     "data": {
      "text/plain": [
       "array([14.935,  9.278, 10.855, 10.968, 14.294,  8.459, 11.555, 14.926,\n",
       "       14.316,  9.373])"
      ]
     },
     "execution_count": 29,
     "metadata": {},
     "output_type": "execute_result"
    }
   ],
   "source": [
    "#imprimimos los primeros 10 numeros de la distribucion con nombre X\n",
    "x[:10]"
   ]
  },
  {
   "cell_type": "code",
   "execution_count": 30,
   "metadata": {},
   "outputs": [],
   "source": [
    "#Para el ejercicio se necesita agrupar los datos, para poder hacerlo usamos la instruccion \"hist\"\n",
    "\n",
    "#histogram(<vector de datos>) Esta funcion nos permite definir los intervalos (divisiones) para agrupar los datos en automatico\n",
    "hist, bin_edges= np.histogram(x)  "
   ]
  },
  {
   "cell_type": "code",
   "execution_count": 31,
   "metadata": {},
   "outputs": [
    {
     "data": {
      "text/plain": [
       "array([  1,   0,   0,   8,  48, 194, 542, 167,  31,   9], dtype=int64)"
      ]
     },
     "execution_count": 31,
     "metadata": {},
     "output_type": "execute_result"
    }
   ],
   "source": [
    "hist  # Variable que contiene el numero de observaciones "
   ]
  },
  {
   "cell_type": "code",
   "execution_count": 32,
   "metadata": {},
   "outputs": [
    {
     "data": {
      "text/plain": [
       "array([-19.167, -14.642, -10.118,  -5.593,  -1.069,   3.455,   7.98 ,\n",
       "        12.504,  17.029,  21.553,  26.077])"
      ]
     },
     "execution_count": 32,
     "metadata": {},
     "output_type": "execute_result"
    }
   ],
   "source": [
    "bin_edges #Variable que contiene los Extremos de los intervalos o divisione de la amplitud K= 10 intervalos "
   ]
  },
  {
   "cell_type": "code",
   "execution_count": 33,
   "metadata": {},
   "outputs": [
    {
     "data": {
      "text/plain": [
       "(10, 11)"
      ]
     },
     "execution_count": 33,
     "metadata": {},
     "output_type": "execute_result"
    }
   ],
   "source": [
    "#size= tamaño de las variables  \n",
    "#10 Intervalos , 11 Extremos para los intervos\n",
    "hist.size ,  bin_edges.size"
   ]
  },
  {
   "cell_type": "code",
   "execution_count": 34,
   "metadata": {},
   "outputs": [],
   "source": [
    "#De forma MANUAL, Una manera de entender como R calcula los K= el numero de intervalos y los Extremos\n",
    "#Apartir del valor maximo y minimo calculados, definimos la amplitud para los bordes de los intervalos\n",
    "min_edges=x.min()\n",
    "max_edges=x.max()"
   ]
  },
  {
   "cell_type": "code",
   "execution_count": 35,
   "metadata": {},
   "outputs": [],
   "source": [
    "#     OTRA FORMA DE HACERLOS EN PYTHON \n",
    "#np.linspace(start=<minimo>,stop=<maximo>,num=<numero de intervalos>,endpoint=<punto final incluido True/False>)\n",
    "# linspace=  funcion que permiteobtener una dustribucion de numeros equidistantes los uno de los otros\n",
    "\n",
    "k_divisiones=10\n",
    "bordes_intervalos= np.linspace(start=min_edges,stop=max_edges, num=k_divisiones+1, endpoint=True)"
   ]
  },
  {
   "cell_type": "code",
   "execution_count": 36,
   "metadata": {},
   "outputs": [
    {
     "data": {
      "text/plain": [
       "array([-19.167, -14.642, -10.118,  -5.593,  -1.069,   3.455,   7.98 ,\n",
       "        12.504,  17.029,  21.553,  26.077])"
      ]
     },
     "execution_count": 36,
     "metadata": {},
     "output_type": "execute_result"
    }
   ],
   "source": [
    "#Da el mismo resultado que con la funcion histogram()\n",
    "bordes_intervalos"
   ]
  },
  {
   "cell_type": "code",
   "execution_count": 41,
   "metadata": {},
   "outputs": [],
   "source": [
    "#np.bincount(<datasert>)= funcion propia de numpy que permite contar las apariciones de los rangos (solo valores enteros)\n",
    "x = (0,1,1,1,2,2,3,7,7,7,25)\n",
    "conteo= np.bincount(x)"
   ]
  },
  {
   "cell_type": "code",
   "execution_count": 42,
   "metadata": {},
   "outputs": [
    {
     "data": {
      "text/plain": [
       "array([1, 3, 2, 1, 0, 0, 0, 3, 0, 0, 0, 0, 0, 0, 0, 0, 0, 0, 0, 0, 0, 0,\n",
       "       0, 0, 0, 1], dtype=int64)"
      ]
     },
     "execution_count": 42,
     "metadata": {},
     "output_type": "execute_result"
    }
   ],
   "source": [
    "#Aparecen mas numeros por que genera un randon de 0 - 25 y conforme los va contando coloca el num en la tupla\n",
    "#en este caso 0 hay 1, 1 hay 3\n",
    "conteo "
   ]
  },
  {
   "cell_type": "code",
   "execution_count": 47,
   "metadata": {},
   "outputs": [],
   "source": [
    "#Donde \n",
    "# hist= calcula el histgrama\n",
    "# _ = sin considerar los extremos \n",
    "\n",
    "hist, _ = np.histogram(x, range=(0,max(x)),bins=max(x)+1)"
   ]
  },
  {
   "cell_type": "code",
   "execution_count": 48,
   "metadata": {},
   "outputs": [
    {
     "data": {
      "text/plain": [
       "array([1, 3, 2, 1, 0, 0, 0, 3, 0, 0, 0, 0, 0, 0, 0, 0, 0, 0, 0, 0, 0, 0,\n",
       "       0, 0, 0, 1], dtype=int64)"
      ]
     },
     "execution_count": 48,
     "metadata": {},
     "output_type": "execute_result"
    }
   ],
   "source": [
    "#histograma que regresa los conteos de los valores\n",
    "hist"
   ]
  },
  {
   "cell_type": "code",
   "execution_count": 51,
   "metadata": {},
   "outputs": [
    {
     "data": {
      "text/plain": [
       "True"
      ]
     },
     "execution_count": 51,
     "metadata": {},
     "output_type": "execute_result"
    }
   ],
   "source": [
    "#compara dos array para determinar si son iguales en extructura y contenido \n",
    "\n",
    "np.array_equal(conteo,hist)"
   ]
  },
  {
   "cell_type": "code",
   "execution_count": 52,
   "metadata": {},
   "outputs": [
    {
     "data": {
      "text/plain": [
       "{0: 1, 1: 3, 2: 2, 3: 1, 7: 3, 25: 1}"
      ]
     },
     "execution_count": 52,
     "metadata": {},
     "output_type": "execute_result"
    }
   ],
   "source": [
    "#Reproduciomos lo que hacia la funcion de conteo que se definio de forma manual}\n",
    "#Me quedo con los valores que son unicos del array x, cuento los elementos del array conteo\n",
    "dict(zip(np.unique(x) ,conteo[conteo.nonzero()] ) )"
   ]
  },
  {
   "cell_type": "markdown",
   "metadata": {},
   "source": [
    "## Visuañizacion de Histogramas con Matplotlib y Pandas"
   ]
  },
  {
   "cell_type": "code",
   "execution_count": 110,
   "metadata": {},
   "outputs": [],
   "source": [
    "#matplotlib: Visualizacion de histogramas\n",
    "\n",
    "import matplotlib.pyplot as plt"
   ]
  },
  {
   "cell_type": "code",
   "execution_count": 66,
   "metadata": {},
   "outputs": [],
   "source": [
    "import random\n",
    "random.seed(2019)"
   ]
  },
  {
   "cell_type": "code",
   "execution_count": 71,
   "metadata": {},
   "outputs": [],
   "source": [
    "#Hacemos uso de la funcion laplace parala distribucion de los datos\n",
    "#np.random.laplace(loc=<localizacion o media>, scale=<escala>, size=<numero de datos>)\n",
    "x= np.random.laplace(loc=10, scale=3,  size= 1000 )"
   ]
  },
  {
   "cell_type": "code",
   "execution_count": 72,
   "metadata": {},
   "outputs": [
    {
     "data": {
      "image/png": "[encoded data removed]",
      "text/plain": [
       "<Figure size 432x288 with 1 Axes>"
      ]
     },
     "metadata": {
      "needs_background": "light"
     },
     "output_type": "display_data"
    }
   ],
   "source": [
    "#FUNCION HIST(), regresa :\n",
    "#hist(x=<datos>, bins=< \"auto\" (las define el algoritmo en automatico)>, color=<color>, alpha=<%de color>, rwidth=<anchura>)\n",
    "#n= numero de elementos(frecuencias), bins= divisiones histograma(extremos), patches= lista de num objetos del histograma\n",
    "\n",
    "n , bins, patches= plt.hist(x=x, bins=\"auto\", color= \"#0505a5\", alpha=0.75, rwidth=0.85 )\n"
   ]
  },
  {
   "cell_type": "code",
   "execution_count": 80,
   "metadata": {},
   "outputs": [
    {
     "data": {
      "image/png": "[encoded data removed]",
      "text/plain": [
       "<Figure size 432x288 with 1 Axes>"
      ]
     },
     "metadata": {
      "needs_background": "light"
     },
     "output_type": "display_data"
    }
   ],
   "source": [
    "n , bins, patches= plt.hist(x=x, bins=\"auto\", color= \"#0505a5\", alpha=0.75, rwidth=0.85 )\n",
    "plt.grid(axis=\"y\", alpha=0.5) #axis: Permite pintar rayas horizontales/alpha: Porcentaje de difuminado de las rayas\n",
    "plt.xlabel(\"valor\") #Texto eje X\n",
    "plt.ylabel(\"frecuencia\") #Testo eje y\n",
    "plt.title(\"Un histograma de frecuencias\") #title: Permite agregar un titulo al histograma\n",
    "plt.text(-10, 80, r'$\\mu= 10, b=3 $')   #text: Permite pintar un texto sobre el objeto grafico colocando los ejes\n",
    "plt.show()\n",
    "\n",
    "#Para ajustar los intervalos del eje Y si estan muy cortos\n",
    "#plt.ylim=(ymax.np.ceil( maxfreq/10)*10  if maxfreq%10 else maxfreq +10  ) "
   ]
  },
  {
   "cell_type": "code",
   "execution_count": 81,
   "metadata": {},
   "outputs": [
    {
     "data": {
      "text/plain": [
       "array([  1.,   0.,   0.,   0.,   0.,   0.,   0.,   0.,   0.,   0.,   3.,\n",
       "         1.,   3.,   4.,   4.,   9.,   8.,  12.,   8.,  16.,  17.,  33.,\n",
       "        45.,  54.,  57.,  76., 110., 141., 100.,  74.,  48.,  52.,  32.,\n",
       "        25.,  15.,  10.,   9.,  11.,   7.,   2.,   3.,   3.,   3.,   0.,\n",
       "         1.,   1.,   0.,   0.,   0.,   0.,   0.,   1.,   0.,   0.,   0.,\n",
       "         0.,   0.,   0.,   1.])"
      ]
     },
     "execution_count": 81,
     "metadata": {},
     "output_type": "execute_result"
    }
   ],
   "source": [
    "n"
   ]
  },
  {
   "cell_type": "code",
   "execution_count": 82,
   "metadata": {},
   "outputs": [
    {
     "data": {
      "text/plain": [
       "array([-12.819, -11.988, -11.157, -10.326,  -9.495,  -8.664,  -7.832,\n",
       "        -7.001,  -6.17 ,  -5.339,  -4.508,  -3.677,  -2.846,  -2.015,\n",
       "        -1.184,  -0.352,   0.479,   1.31 ,   2.141,   2.972,   3.803,\n",
       "         4.634,   5.465,   6.296,   7.128,   7.959,   8.79 ,   9.621,\n",
       "        10.452,  11.283,  12.114,  12.945,  13.776,  14.608,  15.439,\n",
       "        16.27 ,  17.101,  17.932,  18.763,  19.594,  20.425,  21.256,\n",
       "        22.088,  22.919,  23.75 ,  24.581,  25.412,  26.243,  27.074,\n",
       "        27.905,  28.736,  29.568,  30.399,  31.23 ,  32.061,  32.892,\n",
       "        33.723,  34.554,  35.385,  36.217])"
      ]
     },
     "execution_count": 82,
     "metadata": {},
     "output_type": "execute_result"
    }
   ],
   "source": [
    "bins"
   ]
  },
  {
   "cell_type": "code",
   "execution_count": 84,
   "metadata": {},
   "outputs": [],
   "source": [
    "# HISTOGRAMA DE PANDAS, (Requeisito: los objetos se basan en series y son de ese tipo para graficarlos )\n",
    "#Si en lugar de utilizar un objeto del tipo serie utilizamos un dataframe entonces pintara un grafico por columnas numericas\n",
    "\n",
    "import pandas as pd"
   ]
  },
  {
   "cell_type": "code",
   "execution_count": 86,
   "metadata": {},
   "outputs": [],
   "source": [
    "size, scale=1000,10\n",
    "#Objeto series de python\n",
    "data =pd.Series(np.random.gamma(scale, size= size))"
   ]
  },
  {
   "cell_type": "code",
   "execution_count": 91,
   "metadata": {},
   "outputs": [
    {
     "data": {
      "text/plain": [
       "<matplotlib.axes._subplots.AxesSubplot at 0x26751197208>"
      ]
     },
     "execution_count": 91,
     "metadata": {},
     "output_type": "execute_result"
    },
    {
     "data": {
      "image/png": "[encoded data removed]",
      "text/plain": [
       "<Figure size 432x288 with 1 Axes>"
      ]
     },
     "metadata": {
      "needs_background": "light"
     },
     "output_type": "display_data"
    }
   ],
   "source": [
    "#FUNCION data_set.plot.hist\n",
    "#plot.hist(grid=True<lineas horizontales automaticamente>,bins=<divisiones>,rwidth=<ancho de lineas hori>,color=<codigo color>)\n",
    "\n",
    "data.plot.hist(grid=True,bins=20,rwidth=0.9, color=\"#d52575\")"
   ]
  },
  {
   "cell_type": "code",
   "execution_count": 96,
   "metadata": {},
   "outputs": [
    {
     "data": {
      "image/png": "[encoded data removed]",
      "text/plain": [
       "<Figure size 432x288 with 1 Axes>"
      ]
     },
     "metadata": {
      "needs_background": "light"
     },
     "output_type": "display_data"
    }
   ],
   "source": [
    "#FUNCION data_set.plot.hist\n",
    "#plot.hist(grid=True<lineas horizontales automaticamente>,bins=<divisiones>,rwidth=<ancho de lineas hori>,color=<codigo color>)\n",
    "\n",
    "data.plot.hist(grid=True,bins=20,rwidth=0.9, color=\"#d52575\")\n",
    "plt.title(\"Distribucion Gama\") #Titulo del grafico\n",
    "plt.xlabel(\"valor\") #Texto eje X\n",
    "plt.ylabel(\"frecuencia\") #Testo eje y\n",
    "plt.grid(axis=\"y\", alpha=0.75) #axis: Permite pintar rayas horizontales/alpha: Porcentaje de difuminado de las rayas\n",
    "plt.show()"
   ]
  },
  {
   "cell_type": "code",
   "execution_count": 93,
   "metadata": {},
   "outputs": [
    {
     "data": {
      "text/plain": [
       "0       9.692509\n",
       "1      11.382380\n",
       "2       6.490013\n",
       "3       9.619761\n",
       "4       7.481590\n",
       "         ...    \n",
       "995    14.901605\n",
       "996    10.153565\n",
       "997    12.494919\n",
       "998    11.918764\n",
       "999     8.383447\n",
       "Length: 1000, dtype: float64"
      ]
     },
     "execution_count": 93,
     "metadata": {},
     "output_type": "execute_result"
    }
   ],
   "source": [
    "data"
   ]
  },
  {
   "cell_type": "code",
   "execution_count": null,
   "metadata": {},
   "outputs": [],
   "source": [
    "#EJERCICIO  HACER USO DEL PLOT PAR LAS COLUMNAS NUMERICAS DEL DATAFRAME (VAR NUMERICAS)"
   ]
  },
  {
   "cell_type": "markdown",
   "metadata": {},
   "source": [
    "## HISTOGRAMA DIBIJADO EN CAPAS (1.HISTOGRAMA FREC / 2.DENSIDAD) "
   ]
  },
  {
   "cell_type": "code",
   "execution_count": 100,
   "metadata": {},
   "outputs": [],
   "source": [
    "#Generamos 2 distribuciones con diferentes medias, con el objetivo de dibujar el grafico de densidad\n",
    "media= 10,20  # Medias \n",
    "std= 5,2    #Desviacion estandar\n",
    "\n",
    "#Para generar dos distribuciones normales (campanas de gauss)\n",
    "#pd.DataFrame(np.random.normal(loc=<array de medias>,scale=<desviaciones>, size=(distrubucion, <numero dist>)),\n",
    "#size= dos ditribuciones de mil datos cada una\n",
    "#columns = Columnas de datos\n",
    "distribucion=pd.DataFrame(np.random.normal(loc=media,scale=std, size=(1000,2)), columns=[\"x1\",\"x2\"])"
   ]
  },
  {
   "cell_type": "code",
   "execution_count": 101,
   "metadata": {},
   "outputs": [
    {
     "data": {
      "text/html": [
       "<div>\n",
       "<style scoped>\n",
       "    .dataframe tbody tr th:only-of-type {\n",
       "        vertical-align: middle;\n",
       "    }\n",
       "\n",
       "    .dataframe tbody tr th {\n",
       "        vertical-align: top;\n",
       "    }\n",
       "\n",
       "    .dataframe thead th {\n",
       "        text-align: right;\n",
       "    }\n",
       "</style>\n",
       "<table border=\"1\" class=\"dataframe\">\n",
       "  <thead>\n",
       "    <tr style=\"text-align: right;\">\n",
       "      <th></th>\n",
       "      <th>x1</th>\n",
       "      <th>x2</th>\n",
       "    </tr>\n",
       "  </thead>\n",
       "  <tbody>\n",
       "    <tr>\n",
       "      <th>0</th>\n",
       "      <td>17.036579</td>\n",
       "      <td>18.747273</td>\n",
       "    </tr>\n",
       "    <tr>\n",
       "      <th>1</th>\n",
       "      <td>10.066615</td>\n",
       "      <td>22.983411</td>\n",
       "    </tr>\n",
       "    <tr>\n",
       "      <th>2</th>\n",
       "      <td>16.479257</td>\n",
       "      <td>22.653205</td>\n",
       "    </tr>\n",
       "    <tr>\n",
       "      <th>3</th>\n",
       "      <td>10.744494</td>\n",
       "      <td>23.766121</td>\n",
       "    </tr>\n",
       "    <tr>\n",
       "      <th>4</th>\n",
       "      <td>14.230159</td>\n",
       "      <td>17.582182</td>\n",
       "    </tr>\n",
       "    <tr>\n",
       "      <th>...</th>\n",
       "      <td>...</td>\n",
       "      <td>...</td>\n",
       "    </tr>\n",
       "    <tr>\n",
       "      <th>995</th>\n",
       "      <td>8.779686</td>\n",
       "      <td>21.838595</td>\n",
       "    </tr>\n",
       "    <tr>\n",
       "      <th>996</th>\n",
       "      <td>4.513775</td>\n",
       "      <td>18.828938</td>\n",
       "    </tr>\n",
       "    <tr>\n",
       "      <th>997</th>\n",
       "      <td>9.814677</td>\n",
       "      <td>25.923822</td>\n",
       "    </tr>\n",
       "    <tr>\n",
       "      <th>998</th>\n",
       "      <td>6.430251</td>\n",
       "      <td>18.663164</td>\n",
       "    </tr>\n",
       "    <tr>\n",
       "      <th>999</th>\n",
       "      <td>3.422055</td>\n",
       "      <td>20.073920</td>\n",
       "    </tr>\n",
       "  </tbody>\n",
       "</table>\n",
       "<p>1000 rows × 2 columns</p>\n",
       "</div>"
      ],
      "text/plain": [
       "            x1         x2\n",
       "0    17.036579  18.747273\n",
       "1    10.066615  22.983411\n",
       "2    16.479257  22.653205\n",
       "3    10.744494  23.766121\n",
       "4    14.230159  17.582182\n",
       "..         ...        ...\n",
       "995   8.779686  21.838595\n",
       "996   4.513775  18.828938\n",
       "997   9.814677  25.923822\n",
       "998   6.430251  18.663164\n",
       "999   3.422055  20.073920\n",
       "\n",
       "[1000 rows x 2 columns]"
      ]
     },
     "execution_count": 101,
     "metadata": {},
     "output_type": "execute_result"
    }
   ],
   "source": [
    "distribucion  #Data frame con las distribucion"
   ]
  },
  {
   "cell_type": "code",
   "execution_count": 103,
   "metadata": {},
   "outputs": [
    {
     "data": {
      "text/html": [
       "<div>\n",
       "<style scoped>\n",
       "    .dataframe tbody tr th:only-of-type {\n",
       "        vertical-align: middle;\n",
       "    }\n",
       "\n",
       "    .dataframe tbody tr th {\n",
       "        vertical-align: top;\n",
       "    }\n",
       "\n",
       "    .dataframe thead th {\n",
       "        text-align: right;\n",
       "    }\n",
       "</style>\n",
       "<table border=\"1\" class=\"dataframe\">\n",
       "  <thead>\n",
       "    <tr style=\"text-align: right;\">\n",
       "      <th></th>\n",
       "      <th>x1</th>\n",
       "      <th>x2</th>\n",
       "    </tr>\n",
       "  </thead>\n",
       "  <tbody>\n",
       "    <tr>\n",
       "      <th>min</th>\n",
       "      <td>-8.29</td>\n",
       "      <td>14.26</td>\n",
       "    </tr>\n",
       "    <tr>\n",
       "      <th>max</th>\n",
       "      <td>26.69</td>\n",
       "      <td>26.34</td>\n",
       "    </tr>\n",
       "    <tr>\n",
       "      <th>mean</th>\n",
       "      <td>9.87</td>\n",
       "      <td>20.05</td>\n",
       "    </tr>\n",
       "    <tr>\n",
       "      <th>std</th>\n",
       "      <td>4.92</td>\n",
       "      <td>2.01</td>\n",
       "    </tr>\n",
       "  </tbody>\n",
       "</table>\n",
       "</div>"
      ],
      "text/plain": [
       "         x1     x2\n",
       "min   -8.29  14.26\n",
       "max   26.69  26.34\n",
       "mean   9.87  20.05\n",
       "std    4.92   2.01"
      ]
     },
     "execution_count": 103,
     "metadata": {},
     "output_type": "execute_result"
    }
   ],
   "source": [
    "# Calculamos un array de operaciones estadisticas de ambas distribuciones con ayuda de la funcion agg()  \n",
    "\n",
    "distribucion.agg(['min','max','mean','std']).round(decimals=2)"
   ]
  },
  {
   "cell_type": "code",
   "execution_count": 111,
   "metadata": {},
   "outputs": [
    {
     "data": {
      "image/png": "[encoded data removed]",
      "text/plain": [
       "<Figure size 432x288 with 1 Axes>"
      ]
     },
     "metadata": {
      "needs_background": "light"
     },
     "output_type": "display_data"
    }
   ],
   "source": [
    "#FUNCION DE DENSIDAD ESTIMADA (KDE= Kernel Density Estimator)\n",
    "#fig: Instancia pora dibujar el plano figura ,  ax= permite manipular los ejes X/Y\n",
    "fig, ax = plt.subplots()"
   ]
  },
  {
   "cell_type": "code",
   "execution_count": 117,
   "metadata": {},
   "outputs": [
    {
     "data": {
      "text/plain": [
       "<matplotlib.axes._subplots.AxesSubplot at 0x267514d5308>"
      ]
     },
     "execution_count": 117,
     "metadata": {},
     "output_type": "execute_result"
    },
    {
     "data": {
      "image/png": "[encoded data removed]",
      "text/plain": [
       "<Figure size 432x288 with 1 Axes>"
      ]
     },
     "metadata": {
      "needs_background": "light"
     },
     "output_type": "display_data"
    }
   ],
   "source": [
    "#Trabajamos sobre el conjunto de datos > \"distribucion\"\n",
    "fig, ax = plt.subplots()\n",
    "# kde = kernel density estimator \n",
    "# kde(ax=<eje de dibujo>, legend=true/false <para colocar leyendas>, title=<titulo>)\n",
    "distribucion.plot.kde(ax=ax,legend= False,title=\"Histograma de dos normales\") #CAMPANAS DISTRIBUCION- DATASET distribucion(1)\n",
    "distribucion.plot.hist(density =True,ax=ax ) # HISTOGRAMA DE FRECUENCIAS- DATASET distribucion (2)\n",
    "\n",
    "#NOTA: Para empalmar las dos graficas estamos considerando colocar la variable density=True (para calcular Frec.Relativas)\n",
    "#esto permite que las graficas de dispersion se ajusten de forma correcta al grafico ya que si consideramos  density=False\n",
    "#(para calcular Frec.Absolutas), estos valores se disparan muy arriaba lo que impide colcoar las Distribuciones"
   ]
  },
  {
   "cell_type": "code",
   "execution_count": 118,
   "metadata": {},
   "outputs": [
    {
     "data": {
      "image/png": "[encoded data removed]",
      "text/plain": [
       "<Figure size 432x288 with 1 Axes>"
      ]
     },
     "metadata": {
      "needs_background": "light"
     },
     "output_type": "display_data"
    }
   ],
   "source": [
    "#Trabajamos sobre el conjunto de datos > \"distribucion normal\"\n",
    "fig, ax = plt.subplots()\n",
    "# kde = kernel density estimator \n",
    "# kde(ax=<eje de dibujo>, legend=true/false <para colocar leyendas>, title=<titulo>)\n",
    "distribucion.plot.kde(ax=ax,legend= False,title=\"Histograma de dos normales\") #CAMPANAS DISTRIBUCION- DATASET distribucion(1)\n",
    "distribucion.plot.hist(density =True,ax=ax ) # HISTOGRAMA DE FRECUENCIAS- DATASET distribucion (2)\n",
    "ax.set_ylabel(\"Probabilidad\")\n",
    "ax.grid(axis=\"y\",alpha=0.75)\n",
    "ax.set_facecolor(\"#d5d5d5\")  #Coloca color gris al fondo del grafico "
   ]
  },
  {
   "cell_type": "code",
   "execution_count": 133,
   "metadata": {},
   "outputs": [],
   "source": [
    "#Encapsula las distribuciones de forma exacta (analiticamente bien hecha)\n",
    "#Paquete stats crear objetos que representan distrubuciones analiticas exactas, para crear datos que sigan una distribucion\n",
    "from scipy import stats"
   ]
  },
  {
   "cell_type": "code",
   "execution_count": 134,
   "metadata": {},
   "outputs": [],
   "source": [
    "# stats.norm= Regresa la distribucion normal Teorica N(0,1) exp (-x**2/2) /sqrt(2*pi)\n",
    "dist_normal_teorica= stats.norm()"
   ]
  },
  {
   "cell_type": "code",
   "execution_count": 135,
   "metadata": {},
   "outputs": [],
   "source": [
    "#Constrimos un muestreo para aproximar la distribucion normal generada del \"dataset distribucion\"\n",
    "\n",
    "sample=dist_normal_teorica.rvs(size=1000)  #kernel density estimator de numpy"
   ]
  },
  {
   "cell_type": "code",
   "execution_count": 136,
   "metadata": {},
   "outputs": [
    {
     "data": {
      "text/plain": [
       "-2.3263478740408408"
      ]
     },
     "execution_count": 136,
     "metadata": {},
     "output_type": "execute_result"
    }
   ],
   "source": [
    "stats.norm.ppf(0.01) #percentil 1"
   ]
  },
  {
   "cell_type": "code",
   "execution_count": 137,
   "metadata": {},
   "outputs": [
    {
     "data": {
      "text/plain": [
       "2.3263478740408408"
      ]
     },
     "execution_count": 137,
     "metadata": {},
     "output_type": "execute_result"
    }
   ],
   "source": [
    "stats.norm.ppf(0.99)  #percentil 99"
   ]
  },
  {
   "cell_type": "code",
   "execution_count": 145,
   "metadata": {},
   "outputs": [],
   "source": [
    "#Array de cuantiles desde .01 - .99 los cuales se evaluaran con distr.pdf() y gkde()\n",
    "#eje x= Inversa de los pércentiles para poder aproximar #250 putos\n",
    "x= np.linspace(start=stats.norm.ppf (0.01),stop=stats.norm.ppf(0.99), num=250 )  "
   ]
  },
  {
   "cell_type": "code",
   "execution_count": 146,
   "metadata": {},
   "outputs": [],
   "source": [
    "#Gaussian Kernek Density Estimator, forma de la muestra \n",
    "gkde= stats.gaussian_kde(dataset= sample)"
   ]
  },
  {
   "cell_type": "code",
   "execution_count": 153,
   "metadata": {},
   "outputs": [
    {
     "data": {
      "image/png": "[encoded data removed]",
      "text/plain": [
       "<Figure size 432x288 with 1 Axes>"
      ]
     },
     "metadata": {
      "needs_background": "light"
     },
     "output_type": "display_data"
    }
   ],
   "source": [
    "#FORMA DE CALCULAR LA DISTRIBUCION NORMAL APARTIR DE UNA MUESTRA\n",
    "\n",
    "fig ,ax =plt.subplots()\n",
    "#pintamos el plot =\n",
    "ax.plot(x, dist_normal_teorica.pdf(x), linestyle=\"solid\", c=\"red\", lw=3, alpha=0.8, label=\"Distribucion normal teorica\")\n",
    "\n",
    "ax.plot(x, gkde.evaluate(x), linestyle=\"dashed\", c=\"green\", lw=2, label=\"PDF estimada con KDE\" )\n",
    "\n",
    "ax.legend(loc= \"best\", frameon=False ) #legend(loc=<best(python decide el mejor lugar)>,frameon=False(quita  marco de legend))\n",
    "ax.set_title(\"Normal Analitica Vs Estimada\") #title() , coloca el titulo al grafico \n",
    "ax.set_ylabel(\"Probabilidad\") # set_ylabel() , Coloca un texto al eje Y\n",
    "ax.text(-2, 0.35, r'$f(x) = \\frac{ e^{-x^2/2}}{\\sqrt{2\\pi}}$', fontsize=14)# Formula en codigo latex de la distribucion\n",
    "\n",
    "plt.show()"
   ]
  },
  {
   "cell_type": "markdown",
   "metadata": {},
   "source": [
    "## Histogramas con Seaborn"
   ]
  },
  {
   "cell_type": "code",
   "execution_count": 155,
   "metadata": {},
   "outputs": [],
   "source": [
    "import seaborn as sb"
   ]
  },
  {
   "cell_type": "code",
   "execution_count": 158,
   "metadata": {},
   "outputs": [
    {
     "data": {
      "text/plain": [
       "<matplotlib.axes._subplots.AxesSubplot at 0x26753d48f48>"
      ]
     },
     "execution_count": 158,
     "metadata": {},
     "output_type": "execute_result"
    },
    {
     "data": {
      "image/png": "[encoded data removed]",
      "text/plain": [
       "<Figure size 432x288 with 1 Axes>"
      ]
     },
     "metadata": {
      "needs_background": "light"
     },
     "output_type": "display_data"
    }
   ],
   "source": [
    "sb.distplot(data)  # "
   ]
  },
  {
   "cell_type": "code",
   "execution_count": 163,
   "metadata": {},
   "outputs": [],
   "source": [
    "#Hacemos uso de la funcion laplace parala distribucion de los datos\n",
    "#np.random.laplace(loc=<localizacion o media>, scale=<escala>, size=<numero de datos>)\n",
    "np.random.seed(2019)\n",
    "x= np.random.laplace(loc=10, scale=3,  size= 1000 )"
   ]
  },
  {
   "cell_type": "code",
   "execution_count": 167,
   "metadata": {},
   "outputs": [
    {
     "data": {
      "text/plain": [
       "<matplotlib.axes._subplots.AxesSubplot at 0x26753d3bb88>"
      ]
     },
     "execution_count": 167,
     "metadata": {},
     "output_type": "execute_result"
    },
    {
     "data": {
      "image/png": "[encoded data removed]",
      "text/plain": [
       "<Figure size 432x288 with 1 Axes>"
      ]
     },
     "metadata": {},
     "output_type": "display_data"
    }
   ],
   "source": [
    "#set_style(<estilo>): Funcion que tiene muchos estilos los cuales puesden ayudar a darle diferentes colores al grafrico\n",
    "sb.set_style(\"darkgrid\")\n",
    "\n",
    "#Funcion que permite asignarle un data frame para ser graficado x= datos genericos\n",
    "#distplot(<dataframe>, fit=<stats.laplace> ): fit = Le asigna una funcion de ajuste apra estimar en la distribucion\n",
    "sb.distplot(x)  "
   ]
  },
  {
   "cell_type": "code",
   "execution_count": 170,
   "metadata": {},
   "outputs": [
    {
     "data": {
      "text/plain": [
       "<matplotlib.axes._subplots.AxesSubplot at 0x26753fa4d48>"
      ]
     },
     "execution_count": 170,
     "metadata": {},
     "output_type": "execute_result"
    },
    {
     "data": {
      "image/png": "[encoded data removed]",
      "text/plain": [
       "<Figure size 432x288 with 1 Axes>"
      ]
     },
     "metadata": {},
     "output_type": "display_data"
    }
   ],
   "source": [
    "sb.distplot(data, fit=stats.laplace ) # Graficamos los  data= Datos aleatorios \n",
    "#Donde Linea azul=Grafica de densidad estimada / Barras verticales= Frecuencia/ Linea negra= Distribucion laplace\n",
    "\n",
    "#Nota: La linea Negra que pinto sobre el grafico se le llama estimacion de parametros o bondad de ajuste de los datos(distrib)"
   ]
  },
  {
   "cell_type": "markdown",
   "metadata": {},
   "source": [
    "### Otros pandas(permiten graficar no nulos) \n"
   ]
  },
  {
   "cell_type": "code",
   "execution_count": 174,
   "metadata": {},
   "outputs": [],
   "source": [
    "#Calcular el histograma apartir de valores no nulos de objeto series de pandas\n",
    "# choise( np.arange(10) Rango de 10 valores, size=<Tañaño>,p= <np.linspace(1,11,10)/60)> Probabilidad de cada uno)\n",
    "data2= np.random.choice(np.arange(10), size =10000,  p=np.linspace(1,11,10)/60 ) #Distribucion aleatoria de rango 10 "
   ]
  },
  {
   "cell_type": "code",
   "execution_count": 175,
   "metadata": {},
   "outputs": [],
   "source": [
    "#lo convertimos a objeto series de pandas \n",
    "s= pd.Series(data2)"
   ]
  },
  {
   "cell_type": "code",
   "execution_count": 176,
   "metadata": {},
   "outputs": [
    {
     "data": {
      "text/plain": [
       "9    1840\n",
       "8    1622\n",
       "7    1478\n",
       "6    1276\n",
       "5    1050\n",
       "4     909\n",
       "3     781\n",
       "2     537\n",
       "1     361\n",
       "0     146\n",
       "dtype: int64"
      ]
     },
     "execution_count": 176,
     "metadata": {},
     "output_type": "execute_result"
    }
   ],
   "source": [
    "#value_counts: cuenta la frecuencia de cada uno de los valores \n",
    "s.value_counts() # ( Frecuencias absolutas)"
   ]
  },
  {
   "cell_type": "code",
   "execution_count": 177,
   "metadata": {},
   "outputs": [
    {
     "data": {
      "text/plain": [
       "9    0.1840\n",
       "8    0.1622\n",
       "7    0.1478\n",
       "6    0.1276\n",
       "5    0.1050\n",
       "4    0.0909\n",
       "3    0.0781\n",
       "2    0.0537\n",
       "1    0.0361\n",
       "0    0.0146\n",
       "dtype: float64"
      ]
     },
     "execution_count": 177,
     "metadata": {},
     "output_type": "execute_result"
    }
   ],
   "source": [
    "s.value_counts(normalize=True) # ( Frecuencias relativas)"
   ]
  },
  {
   "cell_type": "code",
   "execution_count": 194,
   "metadata": {},
   "outputs": [],
   "source": [
    "#Ejemplo con una serie de datos ordinales \n",
    "\n",
    "serie_edades= pd.Series([1,2,3,4,4,5,6,7,7,7,8,8,9,12,13,14,15,16,18,20,22,23,25,27,29,31,32,35,38,40,44,51,53,55])\n",
    "# Definimos la serie de los intervalos que agruporan los datos\n",
    "intervalos=(0,10,15,20,25,30,40,np.inf)\n",
    "# DEfinimos las etiquetas d elos grupos de datos\n",
    "labels=(\"Infancia\",\"Preadolecencia\",\"Adolecencia\",\"College\",\"Universitario\",\"Joven\",\"Adulto\")       \n",
    "# Permite agrupar los datos segun sus intervalos\n",
    "#pd.cut(<serie_edades o datos>,bins=<intervalos>, labels=<labels o etiquetas de los datos>)\n",
    "grupos= pd.cut(serie_edades,bins=intervalos, labels=labels)"
   ]
  },
  {
   "cell_type": "code",
   "execution_count": 193,
   "metadata": {},
   "outputs": [
    {
     "data": {
      "text/plain": [
       "0           Infancia\n",
       "1           Infancia\n",
       "2           Infancia\n",
       "3           Infancia\n",
       "4           Infancia\n",
       "5           Infancia\n",
       "6           Infancia\n",
       "7           Infancia\n",
       "8           Infancia\n",
       "9           Infancia\n",
       "10          Infancia\n",
       "11          Infancia\n",
       "12          Infancia\n",
       "13    Preadolecencia\n",
       "14    Preadolecencia\n",
       "15    Preadolecencia\n",
       "16    Preadolecencia\n",
       "17       Adolecencia\n",
       "18       Adolecencia\n",
       "19       Adolecencia\n",
       "20           College\n",
       "21           College\n",
       "22           College\n",
       "23     Universitario\n",
       "24     Universitario\n",
       "25             Joven\n",
       "26             Joven\n",
       "27             Joven\n",
       "28            Adulto\n",
       "29            Adulto\n",
       "30            Adulto\n",
       "31            Adulto\n",
       "32            Adulto\n",
       "33            Adulto\n",
       "dtype: category\n",
       "Categories (7, object): [Infancia < Preadolecencia < Adolecencia < College < Universitario < Joven < Adulto]"
      ]
     },
     "execution_count": 193,
     "metadata": {},
     "output_type": "execute_result"
    }
   ],
   "source": [
    "#Del objeto, se puede evisualizar la franja a la que perttenece calos datos\n",
    "grupos"
   ]
  },
  {
   "cell_type": "code",
   "execution_count": 195,
   "metadata": {},
   "outputs": [
    {
     "data": {
      "text/plain": [
       "Infancia          13\n",
       "Joven              5\n",
       "Adulto             4\n",
       "Preadolecencia     4\n",
       "College            3\n",
       "Adolecencia        3\n",
       "Universitario      2\n",
       "dtype: int64"
      ]
     },
     "execution_count": 195,
     "metadata": {},
     "output_type": "execute_result"
    }
   ],
   "source": [
    "#Frecuencia de apariciones segun su categoria par adatos ordinales\n",
    "grupos.value_counts()"
   ]
  },
  {
   "cell_type": "code",
   "execution_count": 196,
   "metadata": {},
   "outputs": [
    {
     "data": {
      "text/html": [
       "<div>\n",
       "<style scoped>\n",
       "    .dataframe tbody tr th:only-of-type {\n",
       "        vertical-align: middle;\n",
       "    }\n",
       "\n",
       "    .dataframe tbody tr th {\n",
       "        vertical-align: top;\n",
       "    }\n",
       "\n",
       "    .dataframe thead th {\n",
       "        text-align: right;\n",
       "    }\n",
       "</style>\n",
       "<table border=\"1\" class=\"dataframe\">\n",
       "  <thead>\n",
       "    <tr style=\"text-align: right;\">\n",
       "      <th></th>\n",
       "      <th>0</th>\n",
       "      <th>1</th>\n",
       "    </tr>\n",
       "  </thead>\n",
       "  <tbody>\n",
       "    <tr>\n",
       "      <th>0</th>\n",
       "      <td>1</td>\n",
       "      <td>Infancia</td>\n",
       "    </tr>\n",
       "    <tr>\n",
       "      <th>1</th>\n",
       "      <td>2</td>\n",
       "      <td>Infancia</td>\n",
       "    </tr>\n",
       "    <tr>\n",
       "      <th>2</th>\n",
       "      <td>3</td>\n",
       "      <td>Infancia</td>\n",
       "    </tr>\n",
       "    <tr>\n",
       "      <th>3</th>\n",
       "      <td>4</td>\n",
       "      <td>Infancia</td>\n",
       "    </tr>\n",
       "    <tr>\n",
       "      <th>4</th>\n",
       "      <td>4</td>\n",
       "      <td>Infancia</td>\n",
       "    </tr>\n",
       "    <tr>\n",
       "      <th>5</th>\n",
       "      <td>5</td>\n",
       "      <td>Infancia</td>\n",
       "    </tr>\n",
       "    <tr>\n",
       "      <th>6</th>\n",
       "      <td>6</td>\n",
       "      <td>Infancia</td>\n",
       "    </tr>\n",
       "    <tr>\n",
       "      <th>7</th>\n",
       "      <td>7</td>\n",
       "      <td>Infancia</td>\n",
       "    </tr>\n",
       "    <tr>\n",
       "      <th>8</th>\n",
       "      <td>7</td>\n",
       "      <td>Infancia</td>\n",
       "    </tr>\n",
       "    <tr>\n",
       "      <th>9</th>\n",
       "      <td>7</td>\n",
       "      <td>Infancia</td>\n",
       "    </tr>\n",
       "    <tr>\n",
       "      <th>10</th>\n",
       "      <td>8</td>\n",
       "      <td>Infancia</td>\n",
       "    </tr>\n",
       "    <tr>\n",
       "      <th>11</th>\n",
       "      <td>8</td>\n",
       "      <td>Infancia</td>\n",
       "    </tr>\n",
       "    <tr>\n",
       "      <th>12</th>\n",
       "      <td>9</td>\n",
       "      <td>Infancia</td>\n",
       "    </tr>\n",
       "    <tr>\n",
       "      <th>13</th>\n",
       "      <td>12</td>\n",
       "      <td>Preadolecencia</td>\n",
       "    </tr>\n",
       "    <tr>\n",
       "      <th>14</th>\n",
       "      <td>13</td>\n",
       "      <td>Preadolecencia</td>\n",
       "    </tr>\n",
       "    <tr>\n",
       "      <th>15</th>\n",
       "      <td>14</td>\n",
       "      <td>Preadolecencia</td>\n",
       "    </tr>\n",
       "    <tr>\n",
       "      <th>16</th>\n",
       "      <td>15</td>\n",
       "      <td>Preadolecencia</td>\n",
       "    </tr>\n",
       "    <tr>\n",
       "      <th>17</th>\n",
       "      <td>16</td>\n",
       "      <td>Adolecencia</td>\n",
       "    </tr>\n",
       "    <tr>\n",
       "      <th>18</th>\n",
       "      <td>18</td>\n",
       "      <td>Adolecencia</td>\n",
       "    </tr>\n",
       "    <tr>\n",
       "      <th>19</th>\n",
       "      <td>20</td>\n",
       "      <td>Adolecencia</td>\n",
       "    </tr>\n",
       "    <tr>\n",
       "      <th>20</th>\n",
       "      <td>22</td>\n",
       "      <td>College</td>\n",
       "    </tr>\n",
       "    <tr>\n",
       "      <th>21</th>\n",
       "      <td>23</td>\n",
       "      <td>College</td>\n",
       "    </tr>\n",
       "    <tr>\n",
       "      <th>22</th>\n",
       "      <td>25</td>\n",
       "      <td>College</td>\n",
       "    </tr>\n",
       "    <tr>\n",
       "      <th>23</th>\n",
       "      <td>27</td>\n",
       "      <td>Universitario</td>\n",
       "    </tr>\n",
       "    <tr>\n",
       "      <th>24</th>\n",
       "      <td>29</td>\n",
       "      <td>Universitario</td>\n",
       "    </tr>\n",
       "    <tr>\n",
       "      <th>25</th>\n",
       "      <td>31</td>\n",
       "      <td>Joven</td>\n",
       "    </tr>\n",
       "    <tr>\n",
       "      <th>26</th>\n",
       "      <td>32</td>\n",
       "      <td>Joven</td>\n",
       "    </tr>\n",
       "    <tr>\n",
       "      <th>27</th>\n",
       "      <td>35</td>\n",
       "      <td>Joven</td>\n",
       "    </tr>\n",
       "    <tr>\n",
       "      <th>28</th>\n",
       "      <td>38</td>\n",
       "      <td>Joven</td>\n",
       "    </tr>\n",
       "    <tr>\n",
       "      <th>29</th>\n",
       "      <td>40</td>\n",
       "      <td>Joven</td>\n",
       "    </tr>\n",
       "    <tr>\n",
       "      <th>30</th>\n",
       "      <td>44</td>\n",
       "      <td>Adulto</td>\n",
       "    </tr>\n",
       "    <tr>\n",
       "      <th>31</th>\n",
       "      <td>51</td>\n",
       "      <td>Adulto</td>\n",
       "    </tr>\n",
       "    <tr>\n",
       "      <th>32</th>\n",
       "      <td>53</td>\n",
       "      <td>Adulto</td>\n",
       "    </tr>\n",
       "    <tr>\n",
       "      <th>33</th>\n",
       "      <td>55</td>\n",
       "      <td>Adulto</td>\n",
       "    </tr>\n",
       "  </tbody>\n",
       "</table>\n",
       "</div>"
      ],
      "text/plain": [
       "     0               1\n",
       "0    1        Infancia\n",
       "1    2        Infancia\n",
       "2    3        Infancia\n",
       "3    4        Infancia\n",
       "4    4        Infancia\n",
       "5    5        Infancia\n",
       "6    6        Infancia\n",
       "7    7        Infancia\n",
       "8    7        Infancia\n",
       "9    7        Infancia\n",
       "10   8        Infancia\n",
       "11   8        Infancia\n",
       "12   9        Infancia\n",
       "13  12  Preadolecencia\n",
       "14  13  Preadolecencia\n",
       "15  14  Preadolecencia\n",
       "16  15  Preadolecencia\n",
       "17  16     Adolecencia\n",
       "18  18     Adolecencia\n",
       "19  20     Adolecencia\n",
       "20  22         College\n",
       "21  23         College\n",
       "22  25         College\n",
       "23  27   Universitario\n",
       "24  29   Universitario\n",
       "25  31           Joven\n",
       "26  32           Joven\n",
       "27  35           Joven\n",
       "28  38           Joven\n",
       "29  40           Joven\n",
       "30  44          Adulto\n",
       "31  51          Adulto\n",
       "32  53          Adulto\n",
       "33  55          Adulto"
      ]
     },
     "execution_count": 196,
     "metadata": {},
     "output_type": "execute_result"
    }
   ],
   "source": [
    "#Permite concatenar grupos de datos (axis =1 , los concatena por filas)\n",
    "\n",
    "pd.concat((serie_edades,grupos), axis=1)"
   ]
  },
  {
   "cell_type": "code",
   "execution_count": 197,
   "metadata": {},
   "outputs": [
    {
     "data": {
      "text/html": [
       "<div>\n",
       "<style scoped>\n",
       "    .dataframe tbody tr th:only-of-type {\n",
       "        vertical-align: middle;\n",
       "    }\n",
       "\n",
       "    .dataframe tbody tr th {\n",
       "        vertical-align: top;\n",
       "    }\n",
       "\n",
       "    .dataframe thead th {\n",
       "        text-align: right;\n",
       "    }\n",
       "</style>\n",
       "<table border=\"1\" class=\"dataframe\">\n",
       "  <thead>\n",
       "    <tr style=\"text-align: right;\">\n",
       "      <th></th>\n",
       "      <th>age</th>\n",
       "      <th>group</th>\n",
       "    </tr>\n",
       "  </thead>\n",
       "  <tbody>\n",
       "    <tr>\n",
       "      <th>0</th>\n",
       "      <td>1</td>\n",
       "      <td>Infancia</td>\n",
       "    </tr>\n",
       "    <tr>\n",
       "      <th>1</th>\n",
       "      <td>2</td>\n",
       "      <td>Infancia</td>\n",
       "    </tr>\n",
       "    <tr>\n",
       "      <th>2</th>\n",
       "      <td>3</td>\n",
       "      <td>Infancia</td>\n",
       "    </tr>\n",
       "    <tr>\n",
       "      <th>3</th>\n",
       "      <td>4</td>\n",
       "      <td>Infancia</td>\n",
       "    </tr>\n",
       "    <tr>\n",
       "      <th>4</th>\n",
       "      <td>4</td>\n",
       "      <td>Infancia</td>\n",
       "    </tr>\n",
       "    <tr>\n",
       "      <th>5</th>\n",
       "      <td>5</td>\n",
       "      <td>Infancia</td>\n",
       "    </tr>\n",
       "    <tr>\n",
       "      <th>6</th>\n",
       "      <td>6</td>\n",
       "      <td>Infancia</td>\n",
       "    </tr>\n",
       "    <tr>\n",
       "      <th>7</th>\n",
       "      <td>7</td>\n",
       "      <td>Infancia</td>\n",
       "    </tr>\n",
       "    <tr>\n",
       "      <th>8</th>\n",
       "      <td>7</td>\n",
       "      <td>Infancia</td>\n",
       "    </tr>\n",
       "    <tr>\n",
       "      <th>9</th>\n",
       "      <td>7</td>\n",
       "      <td>Infancia</td>\n",
       "    </tr>\n",
       "    <tr>\n",
       "      <th>10</th>\n",
       "      <td>8</td>\n",
       "      <td>Infancia</td>\n",
       "    </tr>\n",
       "    <tr>\n",
       "      <th>11</th>\n",
       "      <td>8</td>\n",
       "      <td>Infancia</td>\n",
       "    </tr>\n",
       "    <tr>\n",
       "      <th>12</th>\n",
       "      <td>9</td>\n",
       "      <td>Infancia</td>\n",
       "    </tr>\n",
       "    <tr>\n",
       "      <th>13</th>\n",
       "      <td>12</td>\n",
       "      <td>Preadolecencia</td>\n",
       "    </tr>\n",
       "    <tr>\n",
       "      <th>14</th>\n",
       "      <td>13</td>\n",
       "      <td>Preadolecencia</td>\n",
       "    </tr>\n",
       "    <tr>\n",
       "      <th>15</th>\n",
       "      <td>14</td>\n",
       "      <td>Preadolecencia</td>\n",
       "    </tr>\n",
       "    <tr>\n",
       "      <th>16</th>\n",
       "      <td>15</td>\n",
       "      <td>Preadolecencia</td>\n",
       "    </tr>\n",
       "    <tr>\n",
       "      <th>17</th>\n",
       "      <td>16</td>\n",
       "      <td>Adolecencia</td>\n",
       "    </tr>\n",
       "    <tr>\n",
       "      <th>18</th>\n",
       "      <td>18</td>\n",
       "      <td>Adolecencia</td>\n",
       "    </tr>\n",
       "    <tr>\n",
       "      <th>19</th>\n",
       "      <td>20</td>\n",
       "      <td>Adolecencia</td>\n",
       "    </tr>\n",
       "    <tr>\n",
       "      <th>20</th>\n",
       "      <td>22</td>\n",
       "      <td>College</td>\n",
       "    </tr>\n",
       "    <tr>\n",
       "      <th>21</th>\n",
       "      <td>23</td>\n",
       "      <td>College</td>\n",
       "    </tr>\n",
       "    <tr>\n",
       "      <th>22</th>\n",
       "      <td>25</td>\n",
       "      <td>College</td>\n",
       "    </tr>\n",
       "    <tr>\n",
       "      <th>23</th>\n",
       "      <td>27</td>\n",
       "      <td>Universitario</td>\n",
       "    </tr>\n",
       "    <tr>\n",
       "      <th>24</th>\n",
       "      <td>29</td>\n",
       "      <td>Universitario</td>\n",
       "    </tr>\n",
       "    <tr>\n",
       "      <th>25</th>\n",
       "      <td>31</td>\n",
       "      <td>Joven</td>\n",
       "    </tr>\n",
       "    <tr>\n",
       "      <th>26</th>\n",
       "      <td>32</td>\n",
       "      <td>Joven</td>\n",
       "    </tr>\n",
       "    <tr>\n",
       "      <th>27</th>\n",
       "      <td>35</td>\n",
       "      <td>Joven</td>\n",
       "    </tr>\n",
       "    <tr>\n",
       "      <th>28</th>\n",
       "      <td>38</td>\n",
       "      <td>Joven</td>\n",
       "    </tr>\n",
       "    <tr>\n",
       "      <th>29</th>\n",
       "      <td>40</td>\n",
       "      <td>Joven</td>\n",
       "    </tr>\n",
       "    <tr>\n",
       "      <th>30</th>\n",
       "      <td>44</td>\n",
       "      <td>Adulto</td>\n",
       "    </tr>\n",
       "    <tr>\n",
       "      <th>31</th>\n",
       "      <td>51</td>\n",
       "      <td>Adulto</td>\n",
       "    </tr>\n",
       "    <tr>\n",
       "      <th>32</th>\n",
       "      <td>53</td>\n",
       "      <td>Adulto</td>\n",
       "    </tr>\n",
       "    <tr>\n",
       "      <th>33</th>\n",
       "      <td>55</td>\n",
       "      <td>Adulto</td>\n",
       "    </tr>\n",
       "  </tbody>\n",
       "</table>\n",
       "</div>"
      ],
      "text/plain": [
       "    age           group\n",
       "0     1        Infancia\n",
       "1     2        Infancia\n",
       "2     3        Infancia\n",
       "3     4        Infancia\n",
       "4     4        Infancia\n",
       "5     5        Infancia\n",
       "6     6        Infancia\n",
       "7     7        Infancia\n",
       "8     7        Infancia\n",
       "9     7        Infancia\n",
       "10    8        Infancia\n",
       "11    8        Infancia\n",
       "12    9        Infancia\n",
       "13   12  Preadolecencia\n",
       "14   13  Preadolecencia\n",
       "15   14  Preadolecencia\n",
       "16   15  Preadolecencia\n",
       "17   16     Adolecencia\n",
       "18   18     Adolecencia\n",
       "19   20     Adolecencia\n",
       "20   22         College\n",
       "21   23         College\n",
       "22   25         College\n",
       "23   27   Universitario\n",
       "24   29   Universitario\n",
       "25   31           Joven\n",
       "26   32           Joven\n",
       "27   35           Joven\n",
       "28   38           Joven\n",
       "29   40           Joven\n",
       "30   44          Adulto\n",
       "31   51          Adulto\n",
       "32   53          Adulto\n",
       "33   55          Adulto"
      ]
     },
     "execution_count": 197,
     "metadata": {},
     "output_type": "execute_result"
    }
   ],
   "source": [
    "#rename : Permite cambiar el nombre de las columnas del dataframe\n",
    "pd.concat((serie_edades,grupos), axis=1).rename(columns={0:\"age\", 1:\"group\"})"
   ]
  },
  {
   "cell_type": "code",
   "execution_count": null,
   "metadata": {},
   "outputs": [],
   "source": [
    "# NOTA: SI SE QUIERE DAR UN USO ESPESIFICO A LOS DIFRERENTES PAQUETES DE LIBRERIAS DE GRAFICOS \n",
    "#Datos Estructurados o algoritmos concretos ( Solucion histograma nativo )\n",
    "#Cuando los datos son muchos y variados (Solucion usar numpy para grandes datos y para calcular hist matematico (div y frec))"
   ]
  }
 ],
 "metadata": {
  "kernelspec": {
   "display_name": "Python 3",
   "language": "python",
   "name": "python3"
  },
  "language_info": {
   "codemirror_mode": {
    "name": "ipython",
    "version": 3
   },
   "file_extension": ".py",
   "mimetype": "text/x-python",
   "name": "python",
   "nbconvert_exporter": "python",
   "pygments_lexer": "ipython3",
   "version": "3.7.6"
  }
 },
 "nbformat": 4,
 "nbformat_minor": 4
}
