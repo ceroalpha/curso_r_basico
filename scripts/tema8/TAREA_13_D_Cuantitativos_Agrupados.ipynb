{
 "cells": [
  {
   "cell_type": "code",
   "execution_count": 176,
   "metadata": {},
   "outputs": [],
   "source": [
    "import numpy as np\n",
    "import pandas as pd\n",
    "import statistics as stats"
   ]
  },
  {
   "cell_type": "code",
   "execution_count": 63,
   "metadata": {},
   "outputs": [],
   "source": [
    "dataframe =pd.read_csv(\"C:/Users/anton/OneDrive/Documents/Cursos/Estadistica descriptiva R y Python/Repositorio/curso_r_basico/data/datacrab.txt\", delimiter= \" \", decimal=\".\", encoding=\"utf-8\")"
   ]
  },
  {
   "cell_type": "code",
   "execution_count": 177,
   "metadata": {},
   "outputs": [
    {
     "data": {
      "text/html": [
       "<div>\n",
       "<style scoped>\n",
       "    .dataframe tbody tr th:only-of-type {\n",
       "        vertical-align: middle;\n",
       "    }\n",
       "\n",
       "    .dataframe tbody tr th {\n",
       "        vertical-align: top;\n",
       "    }\n",
       "\n",
       "    .dataframe thead th {\n",
       "        text-align: right;\n",
       "    }\n",
       "</style>\n",
       "<table border=\"1\" class=\"dataframe\">\n",
       "  <thead>\n",
       "    <tr style=\"text-align: right;\">\n",
       "      <th></th>\n",
       "      <th>input</th>\n",
       "      <th>color</th>\n",
       "      <th>spine</th>\n",
       "      <th>width</th>\n",
       "      <th>satell</th>\n",
       "      <th>weight</th>\n",
       "    </tr>\n",
       "  </thead>\n",
       "  <tbody>\n",
       "    <tr>\n",
       "      <th>0</th>\n",
       "      <td>1</td>\n",
       "      <td>3</td>\n",
       "      <td>3</td>\n",
       "      <td>28.3</td>\n",
       "      <td>8</td>\n",
       "      <td>3050</td>\n",
       "    </tr>\n",
       "    <tr>\n",
       "      <th>1</th>\n",
       "      <td>2</td>\n",
       "      <td>4</td>\n",
       "      <td>3</td>\n",
       "      <td>22.5</td>\n",
       "      <td>0</td>\n",
       "      <td>1550</td>\n",
       "    </tr>\n",
       "    <tr>\n",
       "      <th>2</th>\n",
       "      <td>3</td>\n",
       "      <td>2</td>\n",
       "      <td>1</td>\n",
       "      <td>26.0</td>\n",
       "      <td>9</td>\n",
       "      <td>2300</td>\n",
       "    </tr>\n",
       "    <tr>\n",
       "      <th>3</th>\n",
       "      <td>4</td>\n",
       "      <td>4</td>\n",
       "      <td>3</td>\n",
       "      <td>24.8</td>\n",
       "      <td>0</td>\n",
       "      <td>2100</td>\n",
       "    </tr>\n",
       "    <tr>\n",
       "      <th>4</th>\n",
       "      <td>5</td>\n",
       "      <td>4</td>\n",
       "      <td>3</td>\n",
       "      <td>26.0</td>\n",
       "      <td>4</td>\n",
       "      <td>2600</td>\n",
       "    </tr>\n",
       "  </tbody>\n",
       "</table>\n",
       "</div>"
      ],
      "text/plain": [
       "   input  color  spine  width  satell  weight\n",
       "0      1      3      3   28.3       8    3050\n",
       "1      2      4      3   22.5       0    1550\n",
       "2      3      2      1   26.0       9    2300\n",
       "3      4      4      3   24.8       0    2100\n",
       "4      5      4      3   26.0       4    2600"
      ]
     },
     "execution_count": 177,
     "metadata": {},
     "output_type": "execute_result"
    }
   ],
   "source": [
    "dataframe.head(5)"
   ]
  },
  {
   "cell_type": "markdown",
   "metadata": {},
   "source": [
    "## Regla de Scott"
   ]
  },
  {
   "cell_type": "code",
   "execution_count": 222,
   "metadata": {},
   "outputs": [
    {
     "data": {
      "text/plain": [
       "173"
      ]
     },
     "execution_count": 222,
     "metadata": {},
     "output_type": "execute_result"
    }
   ],
   "source": [
    "#1.CALCULAMOS EL NUMERO DE CLASES \n",
    "n=len(dataframe) #Calculamos el numero de elementos\n",
    "n"
   ]
  },
  {
   "cell_type": "code",
   "execution_count": 223,
   "metadata": {},
   "outputs": [
    {
     "data": {
      "text/plain": [
       "10.0"
      ]
     },
     "execution_count": 223,
     "metadata": {},
     "output_type": "execute_result"
    }
   ],
   "source": [
    "#Regla de \"SCOTT\"\n",
    "AT=(3.5*stats.pstdev(dataframe.width)*pow(n,-1/3) )\n",
    "A= (np.max(dataframe.width)-np.min(dataframe.width)) /AT \n",
    "K= np.ceil( A )  #Redondeamos al valor entero mas proximo\n",
    "K"
   ]
  },
  {
   "cell_type": "code",
   "execution_count": 224,
   "metadata": {},
   "outputs": [
    {
     "data": {
      "text/plain": [
       "1.25"
      ]
     },
     "execution_count": 224,
     "metadata": {},
     "output_type": "execute_result"
    }
   ],
   "source": [
    "#2. CALCULAMOS LA AMPLITUD DE LOS INTERVALOS\n",
    "A=(np.max(dataframe.width)-np.min(dataframe.width))/ K\n",
    "A"
   ]
  },
  {
   "cell_type": "code",
   "execution_count": 225,
   "metadata": {},
   "outputs": [
    {
     "data": {
      "text/plain": [
       "20.95"
      ]
     },
     "execution_count": 225,
     "metadata": {},
     "output_type": "execute_result"
    }
   ],
   "source": [
    "#REGLA 3.CALCULAMOS LOS EXTREMOS DE LOS INTERVALOS\n",
    "#los extremos van de 1.3 en 1.3\n",
    "intervalos=[0]*int(K+1)\n",
    "intervalos\n",
    "L1 = np.min(dataframe.width)-1/2*.1\n",
    "L1"
   ]
  },
  {
   "cell_type": "code",
   "execution_count": 226,
   "metadata": {},
   "outputs": [
    {
     "name": "stdout",
     "output_type": "stream",
     "text": [
      "[20.95, 22.2, 23.45, 24.7, 25.95, 27.2, 28.45, 29.7, 30.95, 32.2, 33.45]\n"
     ]
    }
   ],
   "source": [
    "for i in range(len(intervalos)):\n",
    "    if i==0:\n",
    "        intervalos[i]= L1\n",
    "    else:\n",
    "        intervalos[i]=intervalos[int(i-1)]+A\n",
    "        \n",
    "print(intervalos)"
   ]
  },
  {
   "cell_type": "code",
   "execution_count": 214,
   "metadata": {},
   "outputs": [
    {
     "data": {
      "text/plain": [
       "[0, 0, 0, 0, 0, 0, 0, 0, 0, 0]"
      ]
     },
     "execution_count": 214,
     "metadata": {},
     "output_type": "execute_result"
    }
   ],
   "source": [
    "#REGLA 4.CALCULAMOS LA MARCA DE CLASE (Punto medio de cada uno de los intervalo)\n",
    "X1=(intervalos[0]+intervalos[1])/2\n",
    "X1\n",
    "marcas=[0]*int(K)\n",
    "marcas"
   ]
  },
  {
   "cell_type": "code",
   "execution_count": 215,
   "metadata": {},
   "outputs": [
    {
     "name": "stdout",
     "output_type": "stream",
     "text": [
      "[21.575, 22.825, 24.075, 25.325, 26.575, 27.825, 29.075, 30.325, 31.575, 32.825]\n"
     ]
    }
   ],
   "source": [
    "for i in range(len(marcas)):\n",
    "    if i==0 : marcas[i]=X1\n",
    "    else : marcas[i]=marcas[i-1]+A\n",
    "print(marcas)"
   ]
  },
  {
   "cell_type": "markdown",
   "metadata": {},
   "source": [
    "## Regla de la Raiz cuadrada"
   ]
  },
  {
   "cell_type": "code",
   "execution_count": 246,
   "metadata": {},
   "outputs": [
    {
     "data": {
      "text/plain": [
       "14.0"
      ]
     },
     "execution_count": 246,
     "metadata": {},
     "output_type": "execute_result"
    }
   ],
   "source": [
    "#1. CALCULAMOS EL NUMERO DE CLASES \n",
    "K=np.ceil(np.sqrt(n))\n",
    "K"
   ]
  },
  {
   "cell_type": "code",
   "execution_count": 247,
   "metadata": {},
   "outputs": [
    {
     "data": {
      "text/plain": [
       "1.0"
      ]
     },
     "execution_count": 247,
     "metadata": {},
     "output_type": "execute_result"
    }
   ],
   "source": [
    "#2. CALCULAMOS LA AMPLITUD DE LOS INTERVALOS\n",
    "A=(np.max(dataframe.width)-np.min(dataframe.width))/K\n",
    "A=np.ceil(A,)\n",
    "A"
   ]
  },
  {
   "cell_type": "code",
   "execution_count": 248,
   "metadata": {},
   "outputs": [
    {
     "data": {
      "text/plain": [
       "20.95"
      ]
     },
     "execution_count": 248,
     "metadata": {},
     "output_type": "execute_result"
    }
   ],
   "source": [
    "#REGLA 3.CALCULAMOS LOS EXTREMOS DE LOS INTERVALOS\n",
    "#los extremos van de 1.9 en 1.9\n",
    "intervalos=[0]*int(K+1)\n",
    "intervalos\n",
    "L1 = np.min(dataframe.width)-1/2*.1\n",
    "L1"
   ]
  },
  {
   "cell_type": "code",
   "execution_count": 249,
   "metadata": {},
   "outputs": [
    {
     "name": "stdout",
     "output_type": "stream",
     "text": [
      "[20.95, 21.95, 22.95, 23.95, 24.95, 25.95, 26.95, 27.95, 28.95, 29.95, 30.95, 31.95, 32.95, 33.95, 34.95]\n"
     ]
    }
   ],
   "source": [
    "for i in range(len(intervalos)):\n",
    "    if i==0:\n",
    "        intervalos[i]= L1\n",
    "    else:\n",
    "        intervalos[i]=intervalos[int(i-1)]+A\n",
    "        \n",
    "print(intervalos)"
   ]
  },
  {
   "cell_type": "code",
   "execution_count": 251,
   "metadata": {},
   "outputs": [],
   "source": [
    "#REGLA 4.CALCULAMOS LA MARCA DE CLASE (Punto medio de cada uno de los intervalo)\n",
    "X1=(intervalos[0]+intervalos[1])/2\n",
    "X1\n",
    "marcas=[0]*int(K)"
   ]
  },
  {
   "cell_type": "code",
   "execution_count": 252,
   "metadata": {},
   "outputs": [
    {
     "name": "stdout",
     "output_type": "stream",
     "text": [
      "[21.45, 22.45, 23.45, 24.45, 25.45, 26.45, 27.45, 28.45, 29.45, 30.45, 31.45, 32.45, 33.45, 34.45]\n"
     ]
    }
   ],
   "source": [
    "for i in range(len(marcas)):\n",
    "    if i==0 : marcas[i]=X1\n",
    "    else : marcas[i]=marcas[i-1]+A\n",
    "print(marcas)"
   ]
  }
 ],
 "metadata": {
  "kernelspec": {
   "display_name": "Python 3",
   "language": "python",
   "name": "python3"
  },
  "language_info": {
   "codemirror_mode": {
    "name": "ipython",
    "version": 3
   },
   "file_extension": ".py",
   "mimetype": "text/x-python",
   "name": "python",
   "nbconvert_exporter": "python",
   "pygments_lexer": "ipython3",
   "version": "3.7.6"
  }
 },
 "nbformat": 4,
 "nbformat_minor": 4
}
