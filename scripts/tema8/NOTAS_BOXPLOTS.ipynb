{
 "cells": [
  {
   "cell_type": "markdown",
   "metadata": {},
   "source": [
    "# Diagrama de caja y bigotes"
   ]
  },
  {
   "cell_type": "code",
   "execution_count": 9,
   "metadata": {},
   "outputs": [],
   "source": [
    "import numpy as np  #importamosa libreria para generar numeros aleatorios\n",
    "import matplotlib.pyplot as plt  #Libreria para representacion graficas"
   ]
  },
  {
   "cell_type": "code",
   "execution_count": 10,
   "metadata": {},
   "outputs": [],
   "source": [
    "np.random.seed(19880519) #Generamos la semilla de datos con la funcion seed(<numero>) "
   ]
  },
  {
   "cell_type": "code",
   "execution_count": 12,
   "metadata": {},
   "outputs": [],
   "source": [
    "#Datos ficticios para graficar el boxplot con la finalida de que los datos esten dispersos\n",
    "dist1= 100*np.random.rand(50) #Genera un conjunto de 50 datos aleatorios entre 0-1 /el *100 genera un rango de datos de 0-100\n",
    "dist2= 50*np.ones(25) #np.ones() Genera un conjunto de 25 datos numero 1 (repetido)\n",
    "dist3= 100+100*np.random.rand(10) #Genera un conjunto de 10 datos aleatorios entre 200-1\n",
    "dist4= -100*np.random.rand(10) #Genera un conjunto de 10 datos aleatorios entre -100-0\n",
    "#np.concatenate( (<vec1,vec2,vect..n>) ) =Permite concatenar diferentes dataset pero con la misma estructura, y regresa un \n",
    "#concatenate= array de datos concatenados\n",
    "data= np.concatenate( (dist1,dist2,dist3,dist4) )"
   ]
  },
  {
   "cell_type": "code",
   "execution_count": 14,
   "metadata": {},
   "outputs": [
    {
     "data": {
      "text/plain": [
       "{'whiskers': [<matplotlib.lines.Line2D at 0x218f3fb4fc8>,\n",
       "  <matplotlib.lines.Line2D at 0x218f3fb4bc8>],\n",
       " 'caps': [<matplotlib.lines.Line2D at 0x218f3fc2c88>,\n",
       "  <matplotlib.lines.Line2D at 0x218f3fc2d88>],\n",
       " 'boxes': [<matplotlib.lines.Line2D at 0x218f3fb4848>],\n",
       " 'medians': [<matplotlib.lines.Line2D at 0x218f3fc2e48>],\n",
       " 'fliers': [<matplotlib.lines.Line2D at 0x218f3fc9f08>],\n",
       " 'means': []}"
      ]
     },
     "execution_count": 14,
     "metadata": {},
     "output_type": "execute_result"
    },
    {
     "data": {
      "image/png": "[encoded data removed]",
      "text/plain": [
       "<Figure size 432x288 with 1 Axes>"
      ]
     },
     "metadata": {
      "needs_background": "light"
     },
     "output_type": "display_data"
    }
   ],
   "source": [
    "#invocamos al subplot de pyplot para generar una figura de tipo boxplot\n",
    "\n",
    "fig1, ax1=plt.subplots()\n",
    "ax1.set_title(\"Boxplot basico\")  #Colocamos un titulo\n",
    "ax1.boxplot(data)  #boxplot(<dataframe>)= Permite pintar el grafico del dataframe"
   ]
  },
  {
   "cell_type": "code",
   "execution_count": 16,
   "metadata": {},
   "outputs": [
    {
     "data": {
      "text/plain": [
       "{'whiskers': [<matplotlib.lines.Line2D at 0x218f40cf588>,\n",
       "  <matplotlib.lines.Line2D at 0x218f40c7f88>],\n",
       " 'caps': [<matplotlib.lines.Line2D at 0x218f40cff88>,\n",
       "  <matplotlib.lines.Line2D at 0x218f40cfcc8>],\n",
       " 'boxes': [<matplotlib.lines.Line2D at 0x218f40c7d08>],\n",
       " 'medians': [<matplotlib.lines.Line2D at 0x218f407e848>],\n",
       " 'fliers': [<matplotlib.lines.Line2D at 0x218f40d5fc8>],\n",
       " 'means': []}"
      ]
     },
     "execution_count": 16,
     "metadata": {},
     "output_type": "execute_result"
    },
    {
     "data": {
      "image/png": "[encoded data removed]",
      "text/plain": [
       "<Figure size 432x288 with 1 Axes>"
      ]
     },
     "metadata": {
      "needs_background": "light"
     },
     "output_type": "display_data"
    }
   ],
   "source": [
    "fig1, ax2=plt.subplots()  #Creamos un objeto de tipo figura donde se colocara el grafico (ax2)\n",
    "ax2.set_title(\"Boxplot con muescas\")  #Colocamos un titulo\n",
    "#boxplot(<dataframe>, notch=<true>)=  dataframe=Permite pintar el grafico del, notch=Para colocar las muescas \n",
    "ax2.boxplot(data ,notch=True)  "
   ]
  },
  {
   "cell_type": "code",
   "execution_count": 25,
   "metadata": {},
   "outputs": [
    {
     "data": {
      "text/plain": [
       "{'whiskers': [<matplotlib.lines.Line2D at 0x218f441ec88>,\n",
       "  <matplotlib.lines.Line2D at 0x218f1ee0988>],\n",
       " 'caps': [<matplotlib.lines.Line2D at 0x218f43fa0c8>,\n",
       "  <matplotlib.lines.Line2D at 0x218f43ab1c8>],\n",
       " 'boxes': [<matplotlib.lines.Line2D at 0x218f42c2308>],\n",
       " 'medians': [<matplotlib.lines.Line2D at 0x218f43c3508>],\n",
       " 'fliers': [<matplotlib.lines.Line2D at 0x218f4377088>],\n",
       " 'means': []}"
      ]
     },
     "execution_count": 25,
     "metadata": {},
     "output_type": "execute_result"
    },
    {
     "data": {
      "image/png": "[encoded data removed]",
      "text/plain": [
       "<Figure size 432x288 with 1 Axes>"
      ]
     },
     "metadata": {
      "needs_background": "light"
     },
     "output_type": "display_data"
    }
   ],
   "source": [
    "#Definimos un dict sobre el objeto para pintar figiras para los aoutliers\n",
    "#green_diamond=dic(markerfacecolor=\"<color de la forma>\",marker=<id de la figura>): \n",
    "green_diamond=dict(markerfacecolor=\"g\",marker=\"D\")\n",
    "\n",
    "fig3, ax3=plt.subplots()  #Creamos un objeto de tipo figura donde se colocara el grafico (ax2)\n",
    "ax3.set_title(\"Boxplot con aoutlier personalizados\")  #Colocamos un titulo\n",
    "#dataframe=Permite pintar el grafico del, notch=Para colocar las muescas , showfliers=Para eliminar los autliers\n",
    "#boxplot(<dataframe>, notch=<true>,showfliers=<flase>)=  elimina los outliers\n",
    "ax3.boxplot(data ,flierprops=green_diamond) "
   ]
  },
  {
   "cell_type": "code",
   "execution_count": 36,
   "metadata": {},
   "outputs": [
    {
     "data": {
      "text/plain": [
       "{'whiskers': [<matplotlib.lines.Line2D at 0x218f568d8c8>,\n",
       "  <matplotlib.lines.Line2D at 0x218f569bec8>],\n",
       " 'caps': [<matplotlib.lines.Line2D at 0x218f45686c8>,\n",
       "  <matplotlib.lines.Line2D at 0x218f56255c8>],\n",
       " 'boxes': [<matplotlib.lines.Line2D at 0x218f41fb2c8>],\n",
       " 'medians': [<matplotlib.lines.Line2D at 0x218f5604e08>],\n",
       " 'fliers': [<matplotlib.lines.Line2D at 0x218f56046c8>],\n",
       " 'means': []}"
      ]
     },
     "execution_count": 36,
     "metadata": {},
     "output_type": "execute_result"
    },
    {
     "data": {
      "image/png": "[encoded data removed]",
      "text/plain": [
       "<Figure size 432x288 with 1 Axes>"
      ]
     },
     "metadata": {
      "needs_background": "light"
     },
     "output_type": "display_data"
    }
   ],
   "source": [
    "#Definimos un dict sobre el objeto para pintar figiras para los aoutliers\n",
    "#green_diamond=dic(markerfacecolor=\"<color de la forma>\",marker=<id de la figura>): \n",
    "green_diamond=dict(markerfacecolor=\"r\",marker=\"s\")\n",
    "\n",
    "fig5, ax5=plt.subplots()  #Creamos un objeto de tipo figura donde se colocara el grafico (ax2)\n",
    "ax5.set_title(\"Boxplot con aoutlier personalizados horizontal\")  #Colocamos un titulo\n",
    "#dataframe=Permite pintar el grafico del, notch=Para colocar las muescas , showfliers=Para eliminar los autliers\n",
    "#boxplot(<dataframe>, notch=<true>\"Crea muescas\",showfliers=<false>\"elimina outliers\",vert=<False>\"vertical\",whis=\"Tam bigotes\")  \n",
    "ax5.boxplot(data, vert=False, flierprops=red_square, whis=0.75)"
   ]
  },
  {
   "cell_type": "code",
   "execution_count": 39,
   "metadata": {},
   "outputs": [],
   "source": [
    "#Datos ficticios para graficar el boxplot, ahora condatos mas dispersos \n",
    "dist1= 100*np.random.rand(50) #Genera un conjunto de 50 datos aleatorios entre 0-1 /el *100 genera un rango de datos de 0-100\n",
    "dist2= 40*np.ones(25) #np.ones() Genera un conjunto de 25 datos numero 1 (repetido)\n",
    "dist3= 100+100*np.random.rand(10) #Genera un conjunto de 10 datos aleatorios entre 200-1\n",
    "dist4= -100*np.random.rand(10) #Genera un conjunto de 10 datos aleatorios entre -100-0\n",
    "#np.concatenate( (<vec1,vec2,vect..n>) ) =Permite concatenar diferentes dataset pero con la misma estructura.\n",
    "data2= np.concatenate( (dist1,dist2,dist3,dist4) )  #Regresa un  array "
   ]
  },
  {
   "cell_type": "code",
   "execution_count": 40,
   "metadata": {},
   "outputs": [],
   "source": [
    "#shape nos permite crea una array con numero dedimensiones de filas y columnas, shape(<fila>,<columna>)\n",
    "data.shape = (-1,1)\n",
    "data2.shape = (-1,1) "
   ]
  },
  {
   "cell_type": "code",
   "execution_count": 41,
   "metadata": {},
   "outputs": [],
   "source": [
    "#Creamos un array bidimensiones. [<1ra col>,<2da Col>,<::2,0>]\n",
    "# donde <::2,0>= nada:dada, 1 de cada dos en dos \n",
    "fulldata = [data, data2, data2[::2,0]]  #Es la variable resultante de la concatenaicon de 3 array "
   ]
  },
  {
   "cell_type": "code",
   "execution_count": null,
   "metadata": {},
   "outputs": [],
   "source": [
    "fig7, ax7 = plt.subplots()\n",
    "ax7.set_title(\"Múltiples muestras de diferente naturaleza\")\n",
    "ax7.boxplot(fulldata) # Grafica el conjuto de los datos sobre el plano de la grafica \n",
    "plt.show()  #Pinta el grafico en la fugura"
   ]
  }
 ],
 "metadata": {
  "kernelspec": {
   "display_name": "Python 3",
   "language": "python",
   "name": "python3"
  },
  "language_info": {
   "codemirror_mode": {
    "name": "ipython",
    "version": 3
   },
   "file_extension": ".py",
   "mimetype": "text/x-python",
   "name": "python",
   "nbconvert_exporter": "python",
   "pygments_lexer": "ipython3",
   "version": "3.7.6"
  }
 },
 "nbformat": 4,
 "nbformat_minor": 4
}
