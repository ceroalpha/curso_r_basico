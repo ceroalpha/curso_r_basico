{
 "cells": [
  {
   "cell_type": "markdown",
   "metadata": {},
   "source": [
    "Crea una función que reciba los tres coeficientes a, b y c para resolver una ecuación de segundo grado. Muestra la solución por pantalla y ayúdate de la librería Math para acceder a la función raíz cuadrada."
   ]
  },
  {
   "cell_type": "code",
   "execution_count": 15,
   "metadata": {},
   "outputs": [
    {
     "ename": "ValueError",
     "evalue": "math domain error",
     "output_type": "error",
     "traceback": [
      "\u001b[1;31m---------------------------------------------------------------------------\u001b[0m",
      "\u001b[1;31mValueError\u001b[0m                                Traceback (most recent call last)",
      "\u001b[1;32m<ipython-input-15-ed3363dc379a>\u001b[0m in \u001b[0;36m<module>\u001b[1;34m\u001b[0m\n\u001b[0;32m      4\u001b[0m     \u001b[0mprint\u001b[0m\u001b[1;33m(\u001b[0m\u001b[1;34m\"El resultado es: \"\u001b[0m\u001b[1;33m+\u001b[0m\u001b[0mstr\u001b[0m\u001b[1;33m(\u001b[0m\u001b[0mcalculo\u001b[0m\u001b[1;33m)\u001b[0m \u001b[1;33m)\u001b[0m\u001b[1;33m\u001b[0m\u001b[1;33m\u001b[0m\u001b[0m\n\u001b[0;32m      5\u001b[0m \u001b[1;33m\u001b[0m\u001b[0m\n\u001b[1;32m----> 6\u001b[1;33m \u001b[0mecuacion_seg\u001b[0m\u001b[1;33m(\u001b[0m\u001b[1;36m19\u001b[0m\u001b[1;33m,\u001b[0m\u001b[1;36m10\u001b[0m\u001b[1;33m,\u001b[0m\u001b[1;36m14\u001b[0m\u001b[1;33m)\u001b[0m\u001b[1;33m\u001b[0m\u001b[1;33m\u001b[0m\u001b[0m\n\u001b[0m",
      "\u001b[1;32m<ipython-input-15-ed3363dc379a>\u001b[0m in \u001b[0;36mecuacion_seg\u001b[1;34m(X, Y, Z)\u001b[0m\n\u001b[0;32m      1\u001b[0m \u001b[1;32mimport\u001b[0m \u001b[0mmath\u001b[0m\u001b[1;33m\u001b[0m\u001b[1;33m\u001b[0m\u001b[0m\n\u001b[0;32m      2\u001b[0m \u001b[1;32mdef\u001b[0m \u001b[0mecuacion_seg\u001b[0m \u001b[1;33m(\u001b[0m\u001b[0mX\u001b[0m\u001b[1;33m,\u001b[0m\u001b[0mY\u001b[0m\u001b[1;33m,\u001b[0m\u001b[0mZ\u001b[0m\u001b[1;33m)\u001b[0m\u001b[1;33m:\u001b[0m\u001b[1;33m\u001b[0m\u001b[1;33m\u001b[0m\u001b[0m\n\u001b[1;32m----> 3\u001b[1;33m     \u001b[0mcalculo\u001b[0m\u001b[1;33m=\u001b[0m \u001b[1;33m(\u001b[0m\u001b[1;33m-\u001b[0m\u001b[0mY\u001b[0m\u001b[1;33m+\u001b[0m\u001b[1;33m(\u001b[0m\u001b[0mmath\u001b[0m\u001b[1;33m.\u001b[0m\u001b[0msqrt\u001b[0m\u001b[1;33m(\u001b[0m\u001b[0mY\u001b[0m\u001b[1;33m^\u001b[0m\u001b[1;36m2\u001b[0m\u001b[1;33m-\u001b[0m\u001b[1;36m4\u001b[0m\u001b[1;33m*\u001b[0m\u001b[0mX\u001b[0m\u001b[1;33m*\u001b[0m\u001b[0mZ\u001b[0m\u001b[1;33m)\u001b[0m\u001b[1;33m)\u001b[0m\u001b[1;33m/\u001b[0m\u001b[1;33m(\u001b[0m\u001b[1;36m2\u001b[0m\u001b[1;33m*\u001b[0m\u001b[0mX\u001b[0m\u001b[1;33m)\u001b[0m\u001b[1;33m)\u001b[0m\u001b[1;33m*\u001b[0m\u001b[1;33m(\u001b[0m\u001b[1;33m-\u001b[0m\u001b[0mY\u001b[0m\u001b[1;33m-\u001b[0m\u001b[1;33m(\u001b[0m\u001b[0mmath\u001b[0m\u001b[1;33m.\u001b[0m\u001b[0msqrt\u001b[0m\u001b[1;33m(\u001b[0m\u001b[0mY\u001b[0m\u001b[1;33m^\u001b[0m\u001b[1;36m2\u001b[0m\u001b[1;33m-\u001b[0m\u001b[1;36m4\u001b[0m\u001b[1;33m*\u001b[0m\u001b[0mX\u001b[0m\u001b[1;33m*\u001b[0m\u001b[0mZ\u001b[0m\u001b[1;33m)\u001b[0m\u001b[1;33m)\u001b[0m\u001b[1;33m/\u001b[0m\u001b[1;33m(\u001b[0m\u001b[1;36m2\u001b[0m\u001b[1;33m*\u001b[0m\u001b[0mX\u001b[0m\u001b[1;33m)\u001b[0m\u001b[1;33m)\u001b[0m\u001b[1;33m\u001b[0m\u001b[1;33m\u001b[0m\u001b[0m\n\u001b[0m\u001b[0;32m      4\u001b[0m     \u001b[0mprint\u001b[0m\u001b[1;33m(\u001b[0m\u001b[1;34m\"El resultado es: \"\u001b[0m\u001b[1;33m+\u001b[0m\u001b[0mstr\u001b[0m\u001b[1;33m(\u001b[0m\u001b[0mcalculo\u001b[0m\u001b[1;33m)\u001b[0m \u001b[1;33m)\u001b[0m\u001b[1;33m\u001b[0m\u001b[1;33m\u001b[0m\u001b[0m\n\u001b[0;32m      5\u001b[0m \u001b[1;33m\u001b[0m\u001b[0m\n",
      "\u001b[1;31mValueError\u001b[0m: math domain error"
     ]
    }
   ],
   "source": [
    "import math \n",
    "def ecuacion_seg (X,Y,Z):\n",
    "    calculo= (-Y+(math.sqrt(Y^2-4*X*Z))/(2*X))*(-Y-(math.sqrt(Y^2-4*X*Z))/(2*X)) \n",
    "    print(\"El resultado es: \"+str(calculo) )\n",
    "\n",
    "ecuacion_seg(19,10,14)"
   ]
  },
  {
   "cell_type": "markdown",
   "metadata": {},
   "source": [
    "- Crea una función que lea una frase de teclado y nos diga si es o no un palíndromo (frase que se lee igual de izquierda a derecha o al revés como por ejemplo La ruta nos aportó otro paso natural.)"
   ]
  },
  {
   "cell_type": "code",
   "execution_count": 37,
   "metadata": {},
   "outputs": [
    {
     "name": "stdout",
     "output_type": "stream",
     "text": [
      "Escribe una frase para determinar su es un palindromo: ligar es ser agil\n",
      "::: La cadena es un palindromo :::\n"
     ]
    }
   ],
   "source": [
    "cadena= input(\"Escribe una frase para determinar su es un palindromo: \")\n",
    "palabra=cadena.replace(\" \",\"\")\n",
    "\n",
    "if palabra == palabra[::-1]:\n",
    "    print(\"::: La cadena es un palindromo :::\")\n",
    "else :\n",
    "    print(\":: No es un palindromo ::\")"
   ]
  },
  {
   "cell_type": "markdown",
   "metadata": {},
   "source": [
    "- Crea un diccionario que tenga por claves los números del 1 al 10 y como valores sus raíces cuadradas"
   ]
  },
  {
   "cell_type": "code",
   "execution_count": 48,
   "metadata": {},
   "outputs": [
    {
     "name": "stdout",
     "output_type": "stream",
     "text": [
      "{1: 1.0, 2: 1.4142135623730951, 3: 1.7320508075688772, 4: 2.0, 5: 2.23606797749979, 6: 2.449489742783178, 7: 2.6457513110645907, 8: 2.8284271247461903, 9: 3.0, 10: 3.1622776601683795}\n"
     ]
    }
   ],
   "source": [
    "import math\n",
    "diccionario={1:0}\n",
    "for i in range(1,11):\n",
    "    diccionario[i]= math.sqrt(i)\n",
    "    \n",
    "print(diccionario)"
   ]
  },
  {
   "cell_type": "markdown",
   "metadata": {},
   "source": [
    "- Crea un diccionario que tenga como claves las letras del alfabeto castellano y como valores los símbolos del código morse (los tienes todos en la Wikipedia). A continuación crea un programa que lea una frase del teclado y te la convierta a Morse utilizando el diccionario anterior."
   ]
  },
  {
   "cell_type": "code",
   "execution_count": 51,
   "metadata": {},
   "outputs": [
    {
     "name": "stdout",
     "output_type": "stream",
     "text": [
      "Palabra para convertir a codigo morse: HOLA AMIGO\n",
      "· · · · — — — · — · · · —  · — — — · · — — · — — — \n"
     ]
    }
   ],
   "source": [
    "diccionario={\n",
    "\"A\":\"· — \",\n",
    "\"B\":\"— · · · \",\n",
    "\"C\":\"— · — · \",\n",
    "\"CH\":\"— — — — \",\n",
    "\"D\":\"— · · \",\n",
    "\"E\":\"· \",\n",
    "\"F\":\"· · — · \",\n",
    "\"G\":\"— — · \",\n",
    "\"H\":\"· · · · \",\n",
    "\"I\":\"· · \",\n",
    "\"J\":\"· — — — \",\n",
    "\"K\":\"— · — \",\n",
    "\"L\":\"· — · · \",\n",
    "\"M\":\"— — \",\n",
    "\"N\":\"— · \",\n",
    "\"Ñ\":\"— — · — — \",\n",
    "\"O\":\"— — — \",\n",
    "\"P\":\"· — — · \",\n",
    "\"Q\":\"— — · — \",\n",
    "\"R\":\"· — · \",\n",
    "\"S\":\"· · · \",\n",
    "\"T\":\"— \",\n",
    "\"U\":\"· · — \",\n",
    "\"V\":\"· · · — \",\n",
    "\"W\":\"· — — \",\n",
    "\"X\":\"— · · — \",\n",
    "\"Y\":\"— · — — \",\n",
    "\"Z\":\"— — · · \",\n",
    "\"0\":\"— — — — — \",\n",
    "\"1\":\"· — — — — \",\n",
    "\"2\":\"· · — — — \",\n",
    "\"3\":\"· · · — — \",\n",
    "\"4\":\"· · · · — \",\n",
    "\"5\":\"· · · · · \",\n",
    "\"6\":\"— · · · · \",\n",
    "\"7\":\"— — · · · \",\n",
    "\"8\":\"— — — · · \",\n",
    "\"9\":\"— — — — · \",\n",
    "\".\":\"· — · — · — \",\n",
    "\",\":\"— · — · — — \",\n",
    "\"?\":\"· · — — · · \",\n",
    "\" \":\" \"\n",
    "}\n",
    "\n",
    "def morse(texto):\n",
    "    codMorse=\"\"\n",
    "    for i in texto:\n",
    "        codMorse += diccionario[i]\n",
    "    print(codMorse)\n",
    "\n",
    "texto= input(\"El valor en codigo morse es: \")\n",
    "morse(texto)"
   ]
  },
  {
   "cell_type": "markdown",
   "metadata": {},
   "source": [
    "- Crea una función que dados dos diccionarios nos diga que claves están presentes en ambos."
   ]
  },
  {
   "cell_type": "code",
   "execution_count": 139,
   "metadata": {},
   "outputs": [
    {
     "name": "stdout",
     "output_type": "stream",
     "text": [
      "KEY D1: dict_keys(['MXP', 'USD', 'EUR', 'YNC'])\n",
      "KEY D2: dict_keys(['MXP', 'USD', 'EUR', 'GBP'])\n",
      "Estas claves: -MXP-USD-EUR estan en ambos diccionarios\n"
     ]
    }
   ],
   "source": [
    "def evaluaDiccionario(diccionario_1,diccionario_2):\n",
    "    a=diccionario_1.keys()\n",
    "    b=diccionario_2.keys()\n",
    "    print(\"KEY D1: \"+str(a))\n",
    "    print(\"KEY D2: \"+str(b))\n",
    "    valor=\"\"\n",
    "    for i in a : \n",
    "        for j in b:\n",
    "            if i == j:\n",
    "                valor =valor +\"-\"+  j \n",
    "    print(\"Estas claves: \"+ str(valor) +\" estan en ambos diccionarios\")\n",
    "    \n",
    "diccionario_1={ \n",
    "\"MXP\":\"PESOS\",\n",
    "\"USD\":\"DOLAR\",\n",
    "\"EUR\":\"EURO\",\n",
    "\"YNC\":\"YUAN\"\n",
    "}\n",
    "diccionario_2={ \n",
    "\"MXP\":\"PESOS\",\n",
    "\"USD\":\"DOLAR\",\n",
    "\"EUR\":\"EURO\",\n",
    "\"GBP\":\"LIBRA\"\n",
    "}\n",
    "\n",
    "evaluaDiccionario(diccionario_1,diccionario_2)"
   ]
  },
  {
   "cell_type": "markdown",
   "metadata": {},
   "source": [
    "- Crea una función que dado un número N nos diga si es primo o no (tiene que ir dividiendo por todos los números x comprendidos entre 2 y el propio número N menos uno y ver si el cociente de N/x tiene resto entero o no)."
   ]
  },
  {
   "cell_type": "code",
   "execution_count": 112,
   "metadata": {},
   "outputs": [
    {
     "name": "stdout",
     "output_type": "stream",
     "text": [
      "Ingfresa un Numero entero positivo y valida si es PRIMO o NO: 14\n",
      "NUMERO NO PRIMO\n"
     ]
    }
   ],
   "source": [
    "def primos(numero):\n",
    "    primo=numero\n",
    "    opc=0;\n",
    "    while (numero) > 2:\n",
    "        if primo%(numero-1) == 0:\n",
    "            resultado= \"NUMERO NO PRIMO\"\n",
    "            opc=1;\n",
    "        else :\n",
    "            if opc==1 :\n",
    "                resultado= \"NUMERO NO PRIMO\"\n",
    "            else:\n",
    "                resultado= \"NUMERO PRIMO\"\n",
    "        numero-=1\n",
    "    print(resultado)\n",
    "      \n",
    "num=int(input(\"Ingfresa un Numero entero positivo y confirma si es PRIMO o NO: \"))\n",
    "primos(num)"
   ]
  },
  {
   "cell_type": "markdown",
   "metadata": {},
   "source": [
    "- Investiga la documentación de la clase string y crea un método que lea una frase del teclado y escriba la primera letra de cada palabra en Mayúscula."
   ]
  },
  {
   "cell_type": "code",
   "execution_count": 140,
   "metadata": {},
   "outputs": [
    {
     "name": "stdout",
     "output_type": "stream",
     "text": [
      "Introduce una palabra o frase: hola amigo\n",
      "TEXTO:  Hola Amigo\n"
     ]
    }
   ],
   "source": [
    "texto=input(\"Introduce una palabra o frase: \")\n",
    "def palabra (texto):\n",
    "    print(\"TEXTO:  \"+ texto.title())\n",
    "palabra(texto)"
   ]
  },
  {
   "cell_type": "markdown",
   "metadata": {},
   "source": [
    "- Crea una función que calcule el máximo común divisor de dos números introducidos por el usuario por teclado."
   ]
  },
  {
   "cell_type": "code",
   "execution_count": 123,
   "metadata": {},
   "outputs": [
    {
     "name": "stdout",
     "output_type": "stream",
     "text": [
      "CALCULA EL MAXIMO COMUN DIVISOR DE 2 NUMEROS\n",
      "Ingresa el 1ER numero: 20\n",
      "Ingresa el 2DO numero: 10\n",
      "--\n",
      "El MCD es: 10\n"
     ]
    }
   ],
   "source": [
    "def CalculaMCD(num1,num2):\n",
    "    mcd=1\n",
    "    \n",
    "    if num1%num2==0 :\n",
    "        return num2\n",
    "    \n",
    "    for i in range(int(num1/num2),0,-1):\n",
    "        if num1%i == 0 and num2%i == 0:\n",
    "            mcd=i\n",
    "            break\n",
    "            \n",
    "    return mcd\n",
    "\n",
    "print(\"CALCULA EL MAXIMO COMUN DIVISOR DE 2 NUMEROS\")\n",
    "num1=int(input(\"Ingresa el 1ER numero: \"))\n",
    "num2=int(input(\"Ingresa el 2DO numero: \"))\n",
    "print(\"--\")\n",
    "print(\"El MCD es: \"+str(CalculaMCD(num1,num2) ))"
   ]
  },
  {
   "cell_type": "code",
   "execution_count": 126,
   "metadata": {},
   "outputs": [
    {
     "name": "stdout",
     "output_type": "stream",
     "text": [
      "CIFRADO CESAR: ÑD JXHUUD GH ÑDV JDÑDALDV 5\n"
     ]
    }
   ],
   "source": [
    "cifrado_cesar={\n",
    "\"A\":\"D\",\n",
    "\"B\":\"E\",\n",
    "\"C\":\"F\",\n",
    "\"D\":\"G\",\n",
    "\"E\":\"H\",\n",
    "\"F\":\"I\",\n",
    "\"G\":\"J\",\n",
    "\"H\":\"K\",\n",
    "\"I\":\"L\",\n",
    "\"J\":\"M\",\n",
    "\"K\":\"N\",\n",
    "\"L\":\"Ñ\",\n",
    "\"M\":\"O\",\n",
    "\"N\":\"P\",\n",
    "\"Ñ\":\"Q\",\n",
    "\"O\":\"R\",\n",
    "\"P\":\"S\",\n",
    "\"Q\":\"T\",\n",
    "\"R\":\"U\",\n",
    "\"S\":\"V\",\n",
    "\"T\":\"W\",\n",
    "\"U\":\"X\",\n",
    "\"V\":\"Y\",\n",
    "\"W\":\"Z\",\n",
    "\"X\":\"A\",\n",
    "\"Y\":\"B\",\n",
    "\"Z\":\"C\",\n",
    "\"0\":\"0\",\n",
    "\"1\":\"1\",\n",
    "\"2\":\"2\",\n",
    "\"3\":\"3\",\n",
    "\"4\":\"4\",\n",
    "\"5\":\"5\",\n",
    "\"6\":\"6\",\n",
    "\"7\":\"7\",\n",
    "\"8\":\"8\",\n",
    "\"9\":\"9\",\n",
    "\"9\":\"9\",\n",
    "\"9\":\"9\",\n",
    "\" \":\" \"  \n",
    "}\n",
    "\n",
    "def cifradoCesar(palabra):\n",
    "    texto=\"\"\n",
    "    for idx in palabra.upper() :\n",
    "        texto+= cifrado_cesar[idx]\n",
    "    print(\"CIFRADO CESAR: \"+str(texto))\n",
    "    \n",
    "cifradoCesar(\"LA GUERRA DE LAS GALAXIAS 5\")"
   ]
  },
  {
   "cell_type": "markdown",
   "metadata": {},
   "source": [
    "- Dado una lista de nombres de persona, escribe un algoritmo que los ordene de tres formas diferentes:\n",
    "* De forma alfabética\n",
    "* De forma alfabética invertida\n",
    "* De nombre más corto al más largo."
   ]
  },
  {
   "cell_type": "code",
   "execution_count": 138,
   "metadata": {},
   "outputs": [
    {
     "name": "stdout",
     "output_type": "stream",
     "text": [
      "['andres', 'carmen', 'danae', 'maria', 'pablo', 'sandra', 'saul']\n",
      "['saul', 'sandra', 'pablo', 'maria', 'danae', 'carmen', 'andres']\n"
     ]
    }
   ],
   "source": [
    "nombres = [\"carmen\",\"danae\",\"sandra\",\"saul\",\"pablo\",\"maria\",\"andres\"]\n",
    "nombres.sort()\n",
    "print(nombres)\n",
    "nombres.reverse()\n",
    "print(nombres)"
   ]
  },
  {
   "cell_type": "code",
   "execution_count": 135,
   "metadata": {},
   "outputs": [
    {
     "data": {
      "text/plain": [
       "['avión', 'coche', 'gato', 'hola', 'manzana', 'perro']"
      ]
     },
     "execution_count": 135,
     "metadata": {},
     "output_type": "execute_result"
    }
   ],
   "source": [
    "\n"
   ]
  },
  {
   "cell_type": "code",
   "execution_count": null,
   "metadata": {},
   "outputs": [],
   "source": []
  },
  {
   "cell_type": "code",
   "execution_count": null,
   "metadata": {},
   "outputs": [],
   "source": []
  },
  {
   "cell_type": "code",
   "execution_count": null,
   "metadata": {},
   "outputs": [],
   "source": []
  },
  {
   "cell_type": "code",
   "execution_count": null,
   "metadata": {},
   "outputs": [],
   "source": []
  },
  {
   "cell_type": "code",
   "execution_count": null,
   "metadata": {},
   "outputs": [],
   "source": []
  },
  {
   "cell_type": "code",
   "execution_count": null,
   "metadata": {},
   "outputs": [],
   "source": []
  },
  {
   "cell_type": "code",
   "execution_count": null,
   "metadata": {},
   "outputs": [],
   "source": []
  },
  {
   "cell_type": "code",
   "execution_count": null,
   "metadata": {},
   "outputs": [],
   "source": []
  }
 ],
 "metadata": {
  "kernelspec": {
   "display_name": "Python 3",
   "language": "python",
   "name": "python3"
  },
  "language_info": {
   "codemirror_mode": {
    "name": "ipython",
    "version": 3
   },
   "file_extension": ".py",
   "mimetype": "text/x-python",
   "name": "python",
   "nbconvert_exporter": "python",
   "pygments_lexer": "ipython3",
   "version": "3.7.6"
  }
 },
 "nbformat": 4,
 "nbformat_minor": 4
}
